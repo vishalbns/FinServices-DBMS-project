{
  "nbformat": 4,
  "nbformat_minor": 0,
  "metadata": {
    "colab": {
      "provenance": []
    },
    "kernelspec": {
      "name": "python3",
      "display_name": "Python 3"
    },
    "language_info": {
      "name": "python"
    }
  },
  "cells": [
    {
      "cell_type": "code",
      "source": [
        "import numpy as np\n",
        "import pandas as pd\n",
        "import seaborn as sns\n",
        "import matplotlib.pyplot as plt\n",
        "from sklearn import preprocessing, svm\n",
        "from sklearn.model_selection import train_test_split\n",
        "from sklearn.linear_model import LinearRegression"
      ],
      "metadata": {
        "id": "q0UNrMya1F7r"
      },
      "execution_count": null,
      "outputs": []
    },
    {
      "cell_type": "code",
      "source": [
        "%%sh\n",
        "curl https://packages.microsoft.com/keys/microsoft.asc | apt-key add -\n",
        "curl https://packages.microsoft.com/config/ubuntu/16.04/prod.list > /etc/apt/sources.list.d/mssql-release.list\n",
        "sudo apt-get update\n",
        "sudo ACCEPT_EULA=Y apt-get -q -y install msodbcsql17"
      ],
      "metadata": {
        "id": "mZRoDtQFvPuv"
      },
      "execution_count": null,
      "outputs": []
    },
    {
      "cell_type": "code",
      "source": [
        "!sudo apt-get install unixodbc-dev\n",
        "!pip install pyodbc\n",
        "!pip install chart_studio"
      ],
      "metadata": {
        "id": "Awwk9PXexibQ"
      },
      "execution_count": null,
      "outputs": []
    },
    {
      "cell_type": "code",
      "execution_count": null,
      "metadata": {
        "id": "f5WwS_y7ttQY"
      },
      "outputs": [],
      "source": [
        "import pyodbc\n",
        "server = 'dmagroup22.database.windows.net'\n",
        "database = 'dmadb'\n",
        "username = 'CloudSA169ab7fd'\n",
        "password = '{DMAGroup22}'   \n",
        "driver= '{ODBC Driver 17 for SQL Server}'\n",
        "conn_string = 'DRIVER='+driver+';SERVER=tcp:'+server+';PORT=1433;DATABASE='+database+';UID='+username+';PWD='+password"
      ]
    },
    {
      "cell_type": "markdown",
      "source": [
        "1) Find the amount of money collected by the Wealth Management division from each High Networth individual- this includes the wealth cut and all the fees of services availed."
      ],
      "metadata": {
        "id": "dO38UdwzODa4"
      }
    },
    {
      "cell_type": "code",
      "source": [
        "wm_df = pd.DataFrame()\n",
        "with pyodbc.connect('DRIVER='+driver+';SERVER=tcp:'+server+';PORT=1433;DATABASE='+database+';UID='+username+';PWD='+password) as conn:\n",
        "    with conn.cursor() as cursor:\n",
        "        cursor.execute(\"with total_fees as (select HNI_id, sum(fee) as total_fees_collected from dma.WMprovision GROUP by HNI_id) select wc.HNI_id, c.name, (tf.total_fees_collected + wc.wealthcut) as total_hni_pay from dma.wealthcut wc join total_fees tf on wc.HNI_id=tf.HNI_id join dma.client c on wc.HNI_id = c.ID;\")\n",
        "        columns = [column[0] for column in cursor.description]\n",
        "        row = cursor.fetchone()\n",
        "        i=0\n",
        "        while row:\n",
        "            wm_df.loc[i,'Name'] = str(row[1])\n",
        "            wm_df.loc[i,'Total Pay'] = row[2]\n",
        "            i+=1\n",
        "            row = cursor.fetchone()\n",
        "\n",
        "print(wm_df)\n",
        "plt.pie(wm_df['Total Pay'], labels=wm_df['Name'], autopct='%1.1f%%', shadow=True)\n",
        "plt.show()"
      ],
      "metadata": {
        "colab": {
          "base_uri": "https://localhost:8080/",
          "height": 355
        },
        "id": "5sS1mGkrN6vZ",
        "outputId": "62a78d44-4308-47fb-fc62-e713228846a2"
      },
      "execution_count": null,
      "outputs": [
        {
          "output_type": "stream",
          "name": "stdout",
          "text": [
            "               Name   Total Pay\n",
            "0      Juana Crider  30014918.0\n",
            "1   Darrion Matlock  50025008.0\n",
            "2   Britney Redmond  30027761.0\n",
            "3     Tristin Morse  20015599.0\n",
            "4  Annalise Fleming  90023574.0\n"
          ]
        },
        {
          "output_type": "display_data",
          "data": {
            "text/plain": [
              "<Figure size 432x288 with 1 Axes>"
            ],
            "image/png": "[encoded data removed]"
          },
          "metadata": {}
        }
      ]
    },
    {
      "cell_type": "markdown",
      "source": [
        "2) Find the amount of money collected by the Asset Management division from each Asset Management Client and display their full names. Total amount collected includes the profit share and all the fees of services availed."
      ],
      "metadata": {
        "id": "4GMBstdrQaDo"
      }
    },
    {
      "cell_type": "code",
      "source": [
        "with pyodbc.connect('DRIVER='+driver+';SERVER=tcp:'+server+';PORT=1433;DATABASE='+database+';UID='+username+';PWD='+password) as conn:\n",
        "    with conn.cursor() as cursor:\n",
        "        cursor.execute(\"with total_pay as (select AMclient_id, sum(profitshare) + sum(fee) as total_amclient_pay from dma.AMprovision group by AMclient_id) select tp.AMclient_id, c.name, tp.total_amclient_pay from total_pay tp join dma.client c on tp.AMclient_id = c.ID;\")\n",
        "        columns = [column[0] for column in cursor.description]\n",
        "        print(columns)\n",
        "        row = cursor.fetchone()\n",
        "        while row:\n",
        "            print (str(row[0]) + \" \" + str(row[1]) + \" \" + str(row[2]))\n",
        "            row = cursor.fetchone()"
      ],
      "metadata": {
        "colab": {
          "base_uri": "https://localhost:8080/"
        },
        "id": "hTZNfXXCR2E_",
        "outputId": "39252834-9110-43e7-a0ec-889cf1fc8a60"
      },
      "execution_count": null,
      "outputs": [
        {
          "output_type": "stream",
          "name": "stdout",
          "text": [
            "['AMclient_id', 'name', 'total_amclient_pay']\n",
            "6 Connor Champagne 5877\n",
            "7 Janie Gilman 7367\n",
            "8 Rashad Cerda 5055\n",
            "27 Embedly 6330\n",
            "28 Oyo 8496\n"
          ]
        }
      ]
    },
    {
      "cell_type": "markdown",
      "source": [
        "3) Find the amount of money brought in by the P&C division."
      ],
      "metadata": {
        "id": "ThqZ8Lqm4tFC"
      }
    },
    {
      "cell_type": "code",
      "source": [
        "with pyodbc.connect('DRIVER='+driver+';SERVER=tcp:'+server+';PORT=1433;DATABASE='+database+';UID='+username+';PWD='+password) as conn:\n",
        "    with conn.cursor() as cursor:\n",
        "        cursor.execute(\"select sum(total_savings) as total_inflow from dma.commoner;\")\n",
        "        columns = [column[0] for column in cursor.description]\n",
        "        print(columns)\n",
        "        row = cursor.fetchone()\n",
        "        while row:\n",
        "            print (str(row[0]))\n",
        "            row = cursor.fetchone()"
      ],
      "metadata": {
        "colab": {
          "base_uri": "https://localhost:8080/"
        },
        "id": "jpDWbVVn5xhA",
        "outputId": "9a37bb8a-343c-4963-cad5-432fa67a8291"
      },
      "execution_count": null,
      "outputs": [
        {
          "output_type": "stream",
          "name": "stdout",
          "text": [
            "['total_inflow']\n",
            "951009\n"
          ]
        }
      ]
    },
    {
      "cell_type": "markdown",
      "source": [
        "4) Indentify the commoner names who availed all P&C services"
      ],
      "metadata": {
        "id": "8YHYuZuZ6EhE"
      }
    },
    {
      "cell_type": "code",
      "source": [
        "with pyodbc.connect('DRIVER='+driver+';SERVER=tcp:'+server+';PORT=1433;DATABASE='+database+';UID='+username+';PWD='+password) as conn:\n",
        "    with conn.cursor() as cursor:\n",
        "        cursor.execute(\"select commoner_id from dma.PCprovision pc1 where (select count(distinct pc_service_id) from dma.PCprovision pc2 where pc1.commoner_id=pc2.commoner_id) = (select distinct count(*) from dma.PCservice) group by commoner_id;\")\n",
        "        columns = [column[0] for column in cursor.description]\n",
        "        print(columns)\n",
        "        row = cursor.fetchone()\n",
        "        while row:\n",
        "            print (str(row[0]))\n",
        "            row = cursor.fetchone()"
      ],
      "metadata": {
        "id": "Uu9d0k2D6QXf",
        "colab": {
          "base_uri": "https://localhost:8080/"
        },
        "outputId": "55e30c14-8074-4aad-e090-e9ccc5e524bc"
      },
      "execution_count": null,
      "outputs": [
        {
          "output_type": "stream",
          "name": "stdout",
          "text": [
            "['commoner_id']\n",
            "11\n",
            "12\n"
          ]
        }
      ]
    },
    {
      "cell_type": "markdown",
      "source": [
        "5) Find how much stocks of each company got sold out for i.e. (the price per share + the underwriting fee per share) * quantity, assuming all shares are sold. Display the company name, its revenue, total selling price, total cost price and total profit as well."
      ],
      "metadata": {
        "id": "_ahUlUfZS9he"
      }
    },
    {
      "cell_type": "code",
      "source": [
        "ib_df = pd.DataFrame()\n",
        "with pyodbc.connect('DRIVER='+driver+';SERVER=tcp:'+server+';PORT=1433;DATABASE='+database+';UID='+username+';PWD='+password) as conn:\n",
        "    with conn.cursor() as cursor:\n",
        "        cursor.execute(\"with IB_stock_sell_price as ( select s.security_id, s.corporateCo_id, (s.price_per_share + cast(u.fee_per_share as int))*s.total_quantity as sell_price  from dma.securities s join dma.underwriting u on s.security_id = u.security_id) select sp.corporateCo_id, c.name, co.net_revenue, sp.sell_price, (s.price_per_share* cast(s.total_quantity as int)) as cost_price, (sp.sell_price - (s.price_per_share* cast(s.total_quantity as int))) as total_profit from IB_stock_sell_price sp join dma.client c on sp.corporateCo_id = c.ID join dma.securities s on sp.security_id = s.security_id join dma.corporateCo co on c.ID = co.client_id;\")\n",
        "        columns = [column[0] for column in cursor.description]\n",
        "        print(columns)\n",
        "        row = cursor.fetchone()\n",
        "        i=0\n",
        "        while row:\n",
        "            ib_df.loc[i,'Name'] = str(row[1])\n",
        "            ib_df.loc[i,'Cost Price'] = row[4]\n",
        "            ib_df.loc[i,'Selling Price'] = row[3]\n",
        "            ib_df.loc[i,'Profit'] = row[5]\n",
        "            i+=1\n",
        "            i+=1\n",
        "            print (str(row[0]) + \" \" + str(row[1]) + \" \" + str(row[2]) + \" \" + str(row[3]) + \" \" + str(row[4]) + \" \" + str(row[5]))\n",
        "            row = cursor.fetchone()\n",
        "\n",
        "ibplot = ib_df.plot(x=\"Name\", y=[\"Cost Price\", \"Selling Price\"], kind=\"bar\")\n",
        "ibplot2 = ib_df.plot(x=\"Name\", y=[\"Profit\"], kind=\"bar\")\n"
      ],
      "metadata": {
        "colab": {
          "base_uri": "https://localhost:8080/",
          "height": 813
        },
        "id": "xic4EAUnT5ji",
        "outputId": "069fe2cf-cb2e-4555-9882-f5a6bc7a2aa0"
      },
      "execution_count": null,
      "outputs": [
        {
          "output_type": "stream",
          "name": "stdout",
          "text": [
            "['corporateCo_id', 'name', 'net_revenue', 'sell_price', 'cost_price', 'total_profit']\n",
            "26 CustomMade 82000000 1530000 1500000 30000\n",
            "27 Embedly 62000000 3075000 3000000 75000\n",
            "28 Oyo 42000000 8040000 8000000 40000\n",
            "29 Flipkart 22000000 985600 980000 5600\n",
            "30 Boston Dynamics 20000000 1442400 1440000 2400\n"
          ]
        },
        {
          "output_type": "display_data",
          "data": {
            "text/plain": [
              "<Figure size 432x288 with 1 Axes>"
            ],
            "image/png": "[encoded data removed]"
          },
          "metadata": {
            "needs_background": "light"
          }
        },
        {
          "output_type": "display_data",
          "data": {
            "text/plain": [
              "<Figure size 432x288 with 1 Axes>"
            ],
            "image/png": "[encoded data removed]"
          },
          "metadata": {
            "needs_background": "light"
          }
        }
      ]
    },
    {
      "cell_type": "markdown",
      "source": [
        "6) Find the running total of net revenue of each division over months"
      ],
      "metadata": {
        "id": "fgc59Lm3ZOGP"
      }
    },
    {
      "cell_type": "code",
      "source": [
        "with pyodbc.connect('DRIVER='+driver+';SERVER=tcp:'+server+';PORT=1433;DATABASE='+database+';UID='+username+';PWD='+password) as conn:\n",
        "    with conn.cursor() as cursor:\n",
        "        cursor.execute(\"select div_id, month, revenue, sum(revenue) over (partition by div_id order by month rows between unbounded preceding and current row) as runningtotal from dma.revenue;\")\n",
        "        columns = [column[0] for column in cursor.description]\n",
        "        print(columns)\n",
        "        row = cursor.fetchone()\n",
        "        while row:\n",
        "            print (str(row[0]) + \" \" + str(row[1]) + \" \" + str(row[2]) + \" \" + str(row[3]))\n",
        "            row = cursor.fetchone()"
      ],
      "metadata": {
        "id": "LLR_HrptZYLN",
        "colab": {
          "base_uri": "https://localhost:8080/"
        },
        "outputId": "57fdc13d-e253-4ec4-cac9-a756ce73f643"
      },
      "execution_count": null,
      "outputs": [
        {
          "output_type": "stream",
          "name": "stdout",
          "text": [
            "['div_id', 'month', 'revenue', 'runningtotal']\n",
            "1 2020-01-01 1000000000 1000000000\n",
            "1 2020-02-01 1100000000 2100000000\n",
            "1 2020-03-01 1200000000 3300000000\n",
            "1 2020-04-01 1300000000 4600000000\n",
            "1 2020-05-01 1400000000 6000000000\n",
            "1 2020-06-01 1500000000 7500000000\n",
            "1 2020-07-01 1600000000 9100000000\n",
            "1 2020-08-01 1700000000 10800000000\n",
            "1 2020-09-01 1800000000 12600000000\n",
            "1 2020-10-01 1900000000 14500000000\n",
            "1 2020-11-01 2000000000 16500000000\n",
            "1 2020-12-01 2100000000 18600000000\n",
            "1 2021-01-01 2200000000 20800000000\n",
            "1 2021-02-01 2300000000 23100000000\n",
            "1 2021-03-01 2400000000 25500000000\n",
            "1 2021-04-01 2500000000 28000000000\n",
            "1 2021-05-01 2600000000 30600000000\n",
            "1 2021-06-01 2700000000 33300000000\n",
            "1 2021-07-01 2800000000 36100000000\n",
            "1 2021-08-01 2900000000 39000000000\n",
            "1 2021-09-01 3000000000 42000000000\n",
            "1 2021-10-01 3100000000 45100000000\n",
            "1 2021-11-01 3200000000 48300000000\n",
            "1 2021-12-01 3300000000 51600000000\n",
            "1 2022-01-01 3400000000 55000000000\n",
            "1 2022-02-01 3500000000 58500000000\n",
            "1 2022-03-01 3600000000 62100000000\n",
            "1 2022-04-01 3700000000 65800000000\n",
            "1 2022-05-01 3800000000 69600000000\n",
            "1 2022-06-01 3900000000 73500000000\n",
            "1 2022-07-01 4000000000 77500000000\n",
            "1 2022-08-01 4100000000 81600000000\n",
            "1 2022-09-01 4200000000 85800000000\n",
            "1 2022-10-01 4300000000 90100000000\n",
            "1 2022-11-01 4400000000 94500000000\n",
            "1 2022-12-01 4500000000 99000000000\n",
            "2 2020-01-01 500000000 500000000\n",
            "2 2020-02-01 600000000 1100000000\n",
            "2 2020-03-01 700000000 1800000000\n",
            "2 2020-04-01 800000000 2600000000\n",
            "2 2020-05-01 900000000 3500000000\n",
            "2 2020-06-01 1000000000 4500000000\n",
            "2 2020-07-01 1100000000 5600000000\n",
            "2 2020-08-01 1200000000 6800000000\n",
            "2 2020-09-01 1300000000 8100000000\n",
            "2 2020-10-01 1400000000 9500000000\n",
            "2 2020-11-01 1500000000 11000000000\n",
            "2 2020-12-01 1600000000 12600000000\n",
            "2 2021-01-01 1700000000 14300000000\n",
            "2 2021-02-01 1800000000 16100000000\n",
            "2 2021-03-01 1900000000 18000000000\n",
            "2 2021-04-01 2000000000 20000000000\n",
            "2 2021-05-01 2100000000 22100000000\n",
            "2 2021-06-01 2200000000 24300000000\n",
            "2 2021-07-01 2300000000 26600000000\n",
            "2 2021-08-01 2400000000 29000000000\n",
            "2 2021-09-01 2500000000 31500000000\n",
            "2 2021-10-01 2600000000 34100000000\n",
            "2 2021-11-01 2700000000 36800000000\n",
            "2 2021-12-01 2800000000 39600000000\n",
            "2 2022-01-01 2900000000 42500000000\n",
            "2 2022-02-01 3000000000 45500000000\n",
            "2 2022-03-01 3100000000 48600000000\n",
            "2 2022-04-01 3200000000 51800000000\n",
            "2 2022-05-01 3300000000 55100000000\n",
            "2 2022-06-01 3400000000 58500000000\n",
            "2 2022-07-01 3500000000 62000000000\n",
            "2 2022-08-01 3600000000 65600000000\n",
            "2 2022-09-01 3700000000 69300000000\n",
            "2 2022-10-01 3800000000 73100000000\n",
            "2 2022-11-01 3900000000 77000000000\n",
            "2 2022-12-01 4000000000 81000000000\n",
            "3 2020-01-01 1000000000 1000000000\n",
            "3 2020-02-01 1200000000 2200000000\n",
            "3 2020-03-01 1400000000 3600000000\n",
            "3 2020-04-01 1600000000 5200000000\n",
            "3 2020-05-01 1800000000 7000000000\n",
            "3 2020-06-01 2000000000 9000000000\n",
            "3 2020-07-01 2200000000 11200000000\n",
            "3 2020-08-01 2400000000 13600000000\n",
            "3 2020-09-01 2600000000 16200000000\n",
            "3 2020-10-01 2800000000 19000000000\n",
            "3 2020-11-01 3000000000 22000000000\n",
            "3 2020-12-01 3200000000 25200000000\n",
            "3 2021-01-01 3400000000 28600000000\n",
            "3 2021-02-01 3600000000 32200000000\n",
            "3 2021-03-01 3800000000 36000000000\n",
            "3 2021-04-01 4000000000 40000000000\n",
            "3 2021-05-01 4200000000 44200000000\n",
            "3 2021-06-01 4400000000 48600000000\n",
            "3 2021-07-01 4600000000 53200000000\n",
            "3 2021-08-01 4800000000 58000000000\n",
            "3 2021-09-01 5000000000 63000000000\n",
            "3 2021-10-01 5200000000 68200000000\n",
            "3 2021-11-01 5400000000 73600000000\n",
            "3 2021-12-01 5600000000 79200000000\n",
            "3 2022-01-01 5800000000 85000000000\n",
            "3 2022-02-01 6000000000 91000000000\n",
            "3 2022-03-01 6200000000 97200000000\n",
            "3 2022-04-01 6400000000 103600000000\n",
            "3 2022-05-01 6600000000 110200000000\n",
            "3 2022-06-01 6800000000 117000000000\n",
            "3 2022-07-01 7000000000 124000000000\n",
            "3 2022-08-01 7200000000 131200000000\n",
            "3 2022-09-01 7400000000 138600000000\n",
            "3 2022-10-01 7600000000 146200000000\n",
            "3 2022-11-01 7800000000 154000000000\n",
            "3 2022-12-01 8000000000 162000000000\n",
            "4 2020-01-01 200000000 200000000\n",
            "4 2020-02-01 210000000 410000000\n",
            "4 2020-03-01 220000000 630000000\n",
            "4 2020-04-01 230000000 860000000\n",
            "4 2020-05-01 240000000 1100000000\n",
            "4 2020-06-01 250000000 1350000000\n",
            "4 2020-07-01 260000000 1610000000\n",
            "4 2020-08-01 270000000 1880000000\n",
            "4 2020-09-01 280000000 2160000000\n",
            "4 2020-10-01 290000000 2450000000\n",
            "4 2020-11-01 300000000 2750000000\n",
            "4 2020-12-01 310000000 3060000000\n",
            "4 2021-01-01 320000000 3380000000\n",
            "4 2021-02-01 330000000 3710000000\n",
            "4 2021-03-01 340000000 4050000000\n",
            "4 2021-04-01 350000000 4400000000\n",
            "4 2021-05-01 360000000 4760000000\n",
            "4 2021-06-01 370000000 5130000000\n",
            "4 2021-07-01 380000000 5510000000\n",
            "4 2021-08-01 390000000 5900000000\n",
            "4 2021-09-01 400000000 6300000000\n",
            "4 2021-10-01 410000000 6710000000\n",
            "4 2021-11-01 420000000 7130000000\n",
            "4 2021-12-01 430000000 7560000000\n",
            "4 2022-01-01 440000000 8000000000\n",
            "4 2022-02-01 450000000 8450000000\n",
            "4 2022-03-01 460000000 8910000000\n",
            "4 2022-04-01 470000000 9380000000\n",
            "4 2022-05-01 480000000 9860000000\n",
            "4 2022-06-01 490000000 10350000000\n",
            "4 2022-07-01 500000000 10850000000\n",
            "4 2022-08-01 510000000 11360000000\n",
            "4 2022-09-01 520000000 11880000000\n",
            "4 2022-10-01 530000000 12410000000\n",
            "4 2022-11-01 540000000 12950000000\n",
            "4 2022-12-01 550000000 13500000000\n"
          ]
        }
      ]
    },
    {
      "cell_type": "markdown",
      "source": [
        "7) Identify the total quantity of securities that can be sold now by the commoners i.e. release date should not be after today's date. "
      ],
      "metadata": {
        "id": "ZGyjopmibKCT"
      }
    },
    {
      "cell_type": "code",
      "source": [
        "with pyodbc.connect('DRIVER='+driver+';SERVER=tcp:'+server+';PORT=1433;DATABASE='+database+';UID='+username+';PWD='+password) as conn:\n",
        "    with conn.cursor() as cursor:\n",
        "        cursor.execute(\"select sp.security_id, sum(quantity) ready_to_sell_quantity from dma.security_purchase sp where DATEDIFF(day, CAST( GETDATE() AS Date ), release_date) > 0 group by sp.security_id;\")\n",
        "        columns = [column[0] for column in cursor.description]\n",
        "        print(columns)\n",
        "        row = cursor.fetchone()\n",
        "        while row:\n",
        "            print (str(row[0]) + \" \" + str(row[1]))\n",
        "            row = cursor.fetchone()"
      ],
      "metadata": {
        "colab": {
          "base_uri": "https://localhost:8080/"
        },
        "id": "IGfmhzrubAw-",
        "outputId": "dc09312a-2b72-4032-ae43-b512ef049c25"
      },
      "execution_count": null,
      "outputs": [
        {
          "output_type": "stream",
          "name": "stdout",
          "text": [
            "['security_id', 'ready_to_sell_quantity']\n",
            "100001 780\n",
            "200002 325\n",
            "300003 184\n",
            "500005 184\n"
          ]
        }
      ]
    },
    {
      "cell_type": "markdown",
      "source": [
        "8) What are the mean, min, max and range of salaries of employees in each division? Display the name of the division and the number of employees in each division."
      ],
      "metadata": {
        "id": "VyHMjMG8fKAa"
      }
    },
    {
      "cell_type": "code",
      "source": [
        "with pyodbc.connect('DRIVER='+driver+';SERVER=tcp:'+server+';PORT=1433;DATABASE='+database+';UID='+username+';PWD='+password) as conn:\n",
        "    with conn.cursor() as cursor:\n",
        "        cursor.execute(\"select d.NAME, avg(e.compensation) as mean_salary, min(e.compensation) as min_salary, max(e.compensation) as max_salary, max(e.compensation) - min(e.compensation) as range, count(*) as num_of_employees from dma.employee e join dma.division d on e.div_id=d.ID GROUP by d.NAME;\")\n",
        "        columns = [column[0] for column in cursor.description]\n",
        "        print(columns)\n",
        "        row = cursor.fetchone()\n",
        "        while row:\n",
        "            print (str(row[0]) + \" \" + str(row[1]) + \" \" + str(row[2]) + \" \" + str(row[3]) + \" \" + str(row[4]) + \" \" + str(row[5]))\n",
        "            row = cursor.fetchone()"
      ],
      "metadata": {
        "colab": {
          "base_uri": "https://localhost:8080/"
        },
        "id": "GI0QMFUqfb10",
        "outputId": "7125da02-1405-4f90-e144-3831f5528fa7"
      },
      "execution_count": null,
      "outputs": [
        {
          "output_type": "stream",
          "name": "stdout",
          "text": [
            "['NAME', 'mean_salary', 'min_salary', 'max_salary', 'range', 'num_of_employees']\n",
            "Asset Management 188527 115753 278131 162378 7\n",
            "Investment Banking 209513 102294 300000 197706 8\n",
            "Private and Corporate 208986 114220 298792 184572 8\n",
            "Wealth Management 223477 120715 300000 179285 7\n"
          ]
        }
      ]
    },
    {
      "cell_type": "markdown",
      "source": [
        "9) Identify how many employees work for each manager. Disply the name of the manager, age, salary and the count."
      ],
      "metadata": {
        "id": "FxOTYmSN0jRh"
      }
    },
    {
      "cell_type": "code",
      "source": [
        "with pyodbc.connect('DRIVER='+driver+';SERVER=tcp:'+server+';PORT=1433;DATABASE='+database+';UID='+username+';PWD='+password) as conn:\n",
        "    with conn.cursor() as cursor:\n",
        "        cursor.execute(\"with emp_count as ( select manager_id, count(*) as no_of_employees from dma.employee group by manager_id except (select manager_id, count(*) from dma.employee where manager_id is null group by manager_id)) select e.ID, e.name, e.compensation, c.no_of_employees from dma.employee e join emp_count c on e.ID = c.manager_id;\")\n",
        "        columns = [column[0] for column in cursor.description]\n",
        "        print(columns)\n",
        "        row = cursor.fetchone()\n",
        "        while row:\n",
        "            print (str(row[0]) + \" \" + str(row[1]) + \" \" + str(row[2]) + \" \" + str(row[3]))\n",
        "            row = cursor.fetchone()"
      ],
      "metadata": {
        "colab": {
          "base_uri": "https://localhost:8080/"
        },
        "id": "nUFcfqzI0zHw",
        "outputId": "9b3b0450-ab75-48ce-ad57-ef170a28bd6f"
      },
      "execution_count": null,
      "outputs": [
        {
          "output_type": "stream",
          "name": "stdout",
          "text": [
            "['ID', 'name', 'compensation', 'no_of_employees']\n",
            "4 Venkat Krishnamurthy 300000 7\n",
            "5 Bridgett Kovach 114220 7\n",
            "7 Lexis Lofton 270000 6\n",
            "10 Daniela Ceja 300000 6\n"
          ]
        }
      ]
    },
    {
      "cell_type": "markdown",
      "source": [
        "#Application of Machine Learning on the Revenue Data to predict future revenues.\n",
        "\n",
        "---\n",
        "\n"
      ],
      "metadata": {
        "id": "H_TeI5IT-uwd"
      }
    },
    {
      "cell_type": "code",
      "source": [
        "#retrieving Wealth Management Revenue Data from database and saving in a dataframe.\n",
        "wm_df = pd.DataFrame()\n",
        "with pyodbc.connect(conn_string) as conn:\n",
        "    with conn.cursor() as cursor:\n",
        "        print('connection created')\n",
        "        cursor.execute(\"select * from dma.revenue where div_id=1\")\n",
        "        row = cursor.fetchone()\n",
        "        i=0\n",
        "        while row:\n",
        "            wm_df.loc[i,'date'] = str(row[1])\n",
        "            wm_df.loc[i,'revenue'] = row[2]\n",
        "            i+=1\n",
        "            row = cursor.fetchone()\n",
        "print(wm_df)\n",
        "wmdf_temp = wm_df\n",
        "wmdf_temp.plot(x=\"date\", y=\"revenue\", kind='scatter')"
      ],
      "metadata": {
        "id": "_wD7CPQ20EH-",
        "colab": {
          "base_uri": "https://localhost:8080/",
          "height": 987
        },
        "outputId": "fe87e6e4-a542-4c69-ff5d-25ac0c2e1088"
      },
      "execution_count": null,
      "outputs": [
        {
          "output_type": "stream",
          "name": "stdout",
          "text": [
            "connection created\n",
            "          date       revenue\n",
            "0   2020-01-01  1.000000e+09\n",
            "1   2020-02-01  1.100000e+09\n",
            "2   2020-03-01  1.200000e+09\n",
            "3   2020-04-01  1.300000e+09\n",
            "4   2020-05-01  1.400000e+09\n",
            "5   2020-06-01  1.500000e+09\n",
            "6   2020-07-01  1.600000e+09\n",
            "7   2020-08-01  1.700000e+09\n",
            "8   2020-09-01  1.800000e+09\n",
            "9   2020-10-01  1.900000e+09\n",
            "10  2020-11-01  2.000000e+09\n",
            "11  2020-12-01  2.100000e+09\n",
            "12  2021-01-01  2.200000e+09\n",
            "13  2021-02-01  2.300000e+09\n",
            "14  2021-03-01  2.400000e+09\n",
            "15  2021-04-01  2.500000e+09\n",
            "16  2021-05-01  2.600000e+09\n",
            "17  2021-06-01  2.700000e+09\n",
            "18  2021-07-01  2.800000e+09\n",
            "19  2021-08-01  2.900000e+09\n",
            "20  2021-09-01  3.000000e+09\n",
            "21  2021-10-01  3.100000e+09\n",
            "22  2021-11-01  3.200000e+09\n",
            "23  2021-12-01  3.300000e+09\n",
            "24  2022-01-01  3.400000e+09\n",
            "25  2022-02-01  3.500000e+09\n",
            "26  2022-03-01  3.600000e+09\n",
            "27  2022-04-01  3.700000e+09\n",
            "28  2022-05-01  3.800000e+09\n",
            "29  2022-06-01  3.900000e+09\n",
            "30  2022-07-01  4.000000e+09\n",
            "31  2022-08-01  4.100000e+09\n",
            "32  2022-09-01  4.200000e+09\n",
            "33  2022-10-01  4.300000e+09\n",
            "34  2022-11-01  4.400000e+09\n",
            "35  2022-12-01  4.500000e+09\n"
          ]
        },
        {
          "output_type": "execute_result",
          "data": {
            "text/plain": [
              "<matplotlib.axes._subplots.AxesSubplot at 0x7f039597c790>"
            ]
          },
          "metadata": {},
          "execution_count": 37
        },
        {
          "output_type": "display_data",
          "data": {
            "text/plain": [
              "<Figure size 432x288 with 1 Axes>"
            ],
            "image/png": "[encoded data removed]"
          },
          "metadata": {
            "needs_background": "light"
          }
        }
      ]
    },
    {
      "cell_type": "code",
      "source": [
        "#converting string type date to datetime and then to ordinal.\n",
        "import datetime as dt\n",
        "wmdf_temp['date'] = pd.to_datetime(wmdf_temp['date'])\n",
        "wmdf_temp['date']=wmdf_temp['date'].map(dt.datetime.toordinal)\n",
        "wmdf_temp"
      ],
      "metadata": {
        "id": "0jwPQLTs5CJe",
        "colab": {
          "base_uri": "https://localhost:8080/",
          "height": 1000
        },
        "outputId": "b51a53bc-0302-4bfc-b6ed-49d28c943b5d"
      },
      "execution_count": null,
      "outputs": [
        {
          "output_type": "execute_result",
          "data": {
            "text/plain": [
              "      date       revenue\n",
              "0   737425  1.000000e+09\n",
              "1   737456  1.100000e+09\n",
              "2   737485  1.200000e+09\n",
              "3   737516  1.300000e+09\n",
              "4   737546  1.400000e+09\n",
              "5   737577  1.500000e+09\n",
              "6   737607  1.600000e+09\n",
              "7   737638  1.700000e+09\n",
              "8   737669  1.800000e+09\n",
              "9   737699  1.900000e+09\n",
              "10  737730  2.000000e+09\n",
              "11  737760  2.100000e+09\n",
              "12  737791  2.200000e+09\n",
              "13  737822  2.300000e+09\n",
              "14  737850  2.400000e+09\n",
              "15  737881  2.500000e+09\n",
              "16  737911  2.600000e+09\n",
              "17  737942  2.700000e+09\n",
              "18  737972  2.800000e+09\n",
              "19  738003  2.900000e+09\n",
              "20  738034  3.000000e+09\n",
              "21  738064  3.100000e+09\n",
              "22  738095  3.200000e+09\n",
              "23  738125  3.300000e+09\n",
              "24  738156  3.400000e+09\n",
              "25  738187  3.500000e+09\n",
              "26  738215  3.600000e+09\n",
              "27  738246  3.700000e+09\n",
              "28  738276  3.800000e+09\n",
              "29  738307  3.900000e+09\n",
              "30  738337  4.000000e+09\n",
              "31  738368  4.100000e+09\n",
              "32  738399  4.200000e+09\n",
              "33  738429  4.300000e+09\n",
              "34  738460  4.400000e+09\n",
              "35  738490  4.500000e+09"
            ],
            "text/html": [
              "\n",
              "  <div id=\"df-42b4f0a8-2631-43c5-b07a-89501d6f9a62\">\n",
              "    <div class=\"colab-df-container\">\n",
              "      <div>\n",
              "<style scoped>\n",
              "    .dataframe tbody tr th:only-of-type {\n",
              "        vertical-align: middle;\n",
              "    }\n",
              "\n",
              "    .dataframe tbody tr th {\n",
              "        vertical-align: top;\n",
              "    }\n",
              "\n",
              "    .dataframe thead th {\n",
              "        text-align: right;\n",
              "    }\n",
              "</style>\n",
              "<table border=\"1\" class=\"dataframe\">\n",
              "  <thead>\n",
              "    <tr style=\"text-align: right;\">\n",
              "      <th></th>\n",
              "      <th>date</th>\n",
              "      <th>revenue</th>\n",
              "    </tr>\n",
              "  </thead>\n",
              "  <tbody>\n",
              "    <tr>\n",
              "      <th>0</th>\n",
              "      <td>737425</td>\n",
              "      <td>1.000000e+09</td>\n",
              "    </tr>\n",
              "    <tr>\n",
              "      <th>1</th>\n",
              "      <td>737456</td>\n",
              "      <td>1.100000e+09</td>\n",
              "    </tr>\n",
              "    <tr>\n",
              "      <th>2</th>\n",
              "      <td>737485</td>\n",
              "      <td>1.200000e+09</td>\n",
              "    </tr>\n",
              "    <tr>\n",
              "      <th>3</th>\n",
              "      <td>737516</td>\n",
              "      <td>1.300000e+09</td>\n",
              "    </tr>\n",
              "    <tr>\n",
              "      <th>4</th>\n",
              "      <td>737546</td>\n",
              "      <td>1.400000e+09</td>\n",
              "    </tr>\n",
              "    <tr>\n",
              "      <th>5</th>\n",
              "      <td>737577</td>\n",
              "      <td>1.500000e+09</td>\n",
              "    </tr>\n",
              "    <tr>\n",
              "      <th>6</th>\n",
              "      <td>737607</td>\n",
              "      <td>1.600000e+09</td>\n",
              "    </tr>\n",
              "    <tr>\n",
              "      <th>7</th>\n",
              "      <td>737638</td>\n",
              "      <td>1.700000e+09</td>\n",
              "    </tr>\n",
              "    <tr>\n",
              "      <th>8</th>\n",
              "      <td>737669</td>\n",
              "      <td>1.800000e+09</td>\n",
              "    </tr>\n",
              "    <tr>\n",
              "      <th>9</th>\n",
              "      <td>737699</td>\n",
              "      <td>1.900000e+09</td>\n",
              "    </tr>\n",
              "    <tr>\n",
              "      <th>10</th>\n",
              "      <td>737730</td>\n",
              "      <td>2.000000e+09</td>\n",
              "    </tr>\n",
              "    <tr>\n",
              "      <th>11</th>\n",
              "      <td>737760</td>\n",
              "      <td>2.100000e+09</td>\n",
              "    </tr>\n",
              "    <tr>\n",
              "      <th>12</th>\n",
              "      <td>737791</td>\n",
              "      <td>2.200000e+09</td>\n",
              "    </tr>\n",
              "    <tr>\n",
              "      <th>13</th>\n",
              "      <td>737822</td>\n",
              "      <td>2.300000e+09</td>\n",
              "    </tr>\n",
              "    <tr>\n",
              "      <th>14</th>\n",
              "      <td>737850</td>\n",
              "      <td>2.400000e+09</td>\n",
              "    </tr>\n",
              "    <tr>\n",
              "      <th>15</th>\n",
              "      <td>737881</td>\n",
              "      <td>2.500000e+09</td>\n",
              "    </tr>\n",
              "    <tr>\n",
              "      <th>16</th>\n",
              "      <td>737911</td>\n",
              "      <td>2.600000e+09</td>\n",
              "    </tr>\n",
              "    <tr>\n",
              "      <th>17</th>\n",
              "      <td>737942</td>\n",
              "      <td>2.700000e+09</td>\n",
              "    </tr>\n",
              "    <tr>\n",
              "      <th>18</th>\n",
              "      <td>737972</td>\n",
              "      <td>2.800000e+09</td>\n",
              "    </tr>\n",
              "    <tr>\n",
              "      <th>19</th>\n",
              "      <td>738003</td>\n",
              "      <td>2.900000e+09</td>\n",
              "    </tr>\n",
              "    <tr>\n",
              "      <th>20</th>\n",
              "      <td>738034</td>\n",
              "      <td>3.000000e+09</td>\n",
              "    </tr>\n",
              "    <tr>\n",
              "      <th>21</th>\n",
              "      <td>738064</td>\n",
              "      <td>3.100000e+09</td>\n",
              "    </tr>\n",
              "    <tr>\n",
              "      <th>22</th>\n",
              "      <td>738095</td>\n",
              "      <td>3.200000e+09</td>\n",
              "    </tr>\n",
              "    <tr>\n",
              "      <th>23</th>\n",
              "      <td>738125</td>\n",
              "      <td>3.300000e+09</td>\n",
              "    </tr>\n",
              "    <tr>\n",
              "      <th>24</th>\n",
              "      <td>738156</td>\n",
              "      <td>3.400000e+09</td>\n",
              "    </tr>\n",
              "    <tr>\n",
              "      <th>25</th>\n",
              "      <td>738187</td>\n",
              "      <td>3.500000e+09</td>\n",
              "    </tr>\n",
              "    <tr>\n",
              "      <th>26</th>\n",
              "      <td>738215</td>\n",
              "      <td>3.600000e+09</td>\n",
              "    </tr>\n",
              "    <tr>\n",
              "      <th>27</th>\n",
              "      <td>738246</td>\n",
              "      <td>3.700000e+09</td>\n",
              "    </tr>\n",
              "    <tr>\n",
              "      <th>28</th>\n",
              "      <td>738276</td>\n",
              "      <td>3.800000e+09</td>\n",
              "    </tr>\n",
              "    <tr>\n",
              "      <th>29</th>\n",
              "      <td>738307</td>\n",
              "      <td>3.900000e+09</td>\n",
              "    </tr>\n",
              "    <tr>\n",
              "      <th>30</th>\n",
              "      <td>738337</td>\n",
              "      <td>4.000000e+09</td>\n",
              "    </tr>\n",
              "    <tr>\n",
              "      <th>31</th>\n",
              "      <td>738368</td>\n",
              "      <td>4.100000e+09</td>\n",
              "    </tr>\n",
              "    <tr>\n",
              "      <th>32</th>\n",
              "      <td>738399</td>\n",
              "      <td>4.200000e+09</td>\n",
              "    </tr>\n",
              "    <tr>\n",
              "      <th>33</th>\n",
              "      <td>738429</td>\n",
              "      <td>4.300000e+09</td>\n",
              "    </tr>\n",
              "    <tr>\n",
              "      <th>34</th>\n",
              "      <td>738460</td>\n",
              "      <td>4.400000e+09</td>\n",
              "    </tr>\n",
              "    <tr>\n",
              "      <th>35</th>\n",
              "      <td>738490</td>\n",
              "      <td>4.500000e+09</td>\n",
              "    </tr>\n",
              "  </tbody>\n",
              "</table>\n",
              "</div>\n",
              "      <button class=\"colab-df-convert\" onclick=\"convertToInteractive('df-42b4f0a8-2631-43c5-b07a-89501d6f9a62')\"\n",
              "              title=\"Convert this dataframe to an interactive table.\"\n",
              "              style=\"display:none;\">\n",
              "        \n",
              "  <svg xmlns=\"http://www.w3.org/2000/svg\" height=\"24px\"viewBox=\"0 0 24 24\"\n",
              "       width=\"24px\">\n",
              "    <path d=\"M0 0h24v24H0V0z\" fill=\"none\"/>\n",
              "    <path d=\"M18.56 5.44l.94 2.06.94-2.06 2.06-.94-2.06-.94-.94-2.06-.94 2.06-2.06.94zm-11 1L8.5 8.5l.94-2.06 2.06-.94-2.06-.94L8.5 2.5l-.94 2.06-2.06.94zm10 10l.94 2.06.94-2.06 2.06-.94-2.06-.94-.94-2.06-.94 2.06-2.06.94z\"/><path d=\"M17.41 7.96l-1.37-1.37c-.4-.4-.92-.59-1.43-.59-.52 0-1.04.2-1.43.59L10.3 9.45l-7.72 7.72c-.78.78-.78 2.05 0 2.83L4 21.41c.39.39.9.59 1.41.59.51 0 1.02-.2 1.41-.59l7.78-7.78 2.81-2.81c.8-.78.8-2.07 0-2.86zM5.41 20L4 18.59l7.72-7.72 1.47 1.35L5.41 20z\"/>\n",
              "  </svg>\n",
              "      </button>\n",
              "      \n",
              "  <style>\n",
              "    .colab-df-container {\n",
              "      display:flex;\n",
              "      flex-wrap:wrap;\n",
              "      gap: 12px;\n",
              "    }\n",
              "\n",
              "    .colab-df-convert {\n",
              "      background-color: #E8F0FE;\n",
              "      border: none;\n",
              "      border-radius: 50%;\n",
              "      cursor: pointer;\n",
              "      display: none;\n",
              "      fill: #1967D2;\n",
              "      height: 32px;\n",
              "      padding: 0 0 0 0;\n",
              "      width: 32px;\n",
              "    }\n",
              "\n",
              "    .colab-df-convert:hover {\n",
              "      background-color: #E2EBFA;\n",
              "      box-shadow: 0px 1px 2px rgba(60, 64, 67, 0.3), 0px 1px 3px 1px rgba(60, 64, 67, 0.15);\n",
              "      fill: #174EA6;\n",
              "    }\n",
              "\n",
              "    [theme=dark] .colab-df-convert {\n",
              "      background-color: #3B4455;\n",
              "      fill: #D2E3FC;\n",
              "    }\n",
              "\n",
              "    [theme=dark] .colab-df-convert:hover {\n",
              "      background-color: #434B5C;\n",
              "      box-shadow: 0px 1px 3px 1px rgba(0, 0, 0, 0.15);\n",
              "      filter: drop-shadow(0px 1px 2px rgba(0, 0, 0, 0.3));\n",
              "      fill: #FFFFFF;\n",
              "    }\n",
              "  </style>\n",
              "\n",
              "      <script>\n",
              "        const buttonEl =\n",
              "          document.querySelector('#df-42b4f0a8-2631-43c5-b07a-89501d6f9a62 button.colab-df-convert');\n",
              "        buttonEl.style.display =\n",
              "          google.colab.kernel.accessAllowed ? 'block' : 'none';\n",
              "\n",
              "        async function convertToInteractive(key) {\n",
              "          const element = document.querySelector('#df-42b4f0a8-2631-43c5-b07a-89501d6f9a62');\n",
              "          const dataTable =\n",
              "            await google.colab.kernel.invokeFunction('convertToInteractive',\n",
              "                                                     [key], {});\n",
              "          if (!dataTable) return;\n",
              "\n",
              "          const docLinkHtml = 'Like what you see? Visit the ' +\n",
              "            '<a target=\"_blank\" href=https://colab.research.google.com/notebooks/data_table.ipynb>data table notebook</a>'\n",
              "            + ' to learn more about interactive tables.';\n",
              "          element.innerHTML = '';\n",
              "          dataTable['output_type'] = 'display_data';\n",
              "          await google.colab.output.renderOutput(dataTable, element);\n",
              "          const docLink = document.createElement('div');\n",
              "          docLink.innerHTML = docLinkHtml;\n",
              "          element.appendChild(docLink);\n",
              "        }\n",
              "      </script>\n",
              "    </div>\n",
              "  </div>\n",
              "  "
            ]
          },
          "metadata": {},
          "execution_count": 38
        }
      ]
    },
    {
      "cell_type": "code",
      "source": [
        "X = np.array(wmdf_temp['date']).reshape(-1, 1)\n",
        "y = np.array(wmdf_temp['revenue']).reshape(-1, 1)\n",
        "  \n",
        "X_train, X_test, y_train, y_test = train_test_split(X, y, test_size = 0.20)\n",
        "# Splitting the data into training and testing data\n",
        "\n",
        "regr = LinearRegression()\n",
        "  \n",
        "regr.fit(X_train, y_train)\n",
        "print(\"Model Accuracy: \",regr.score(X_test, y_test))"
      ],
      "metadata": {
        "colab": {
          "base_uri": "https://localhost:8080/"
        },
        "id": "jjNC5COx4MHF",
        "outputId": "5359ed34-191a-4082-8134-75559c037a88"
      },
      "execution_count": null,
      "outputs": [
        {
          "output_type": "stream",
          "name": "stdout",
          "text": [
            "Model Accuracy:  0.99999557798502\n"
          ]
        }
      ]
    },
    {
      "cell_type": "code",
      "source": [
        "y_pred = regr.predict(X_test)\n",
        "plt.scatter(X_test, y_test, color ='b')\n",
        "plt.plot(X_test, y_pred, color ='k')\n",
        "  \n",
        "plt.show()"
      ],
      "metadata": {
        "colab": {
          "base_uri": "https://localhost:8080/",
          "height": 276
        },
        "id": "7zyycsl55igy",
        "outputId": "58bdf2b4-1a58-4d2d-8013-47602b312ace"
      },
      "execution_count": null,
      "outputs": [
        {
          "output_type": "display_data",
          "data": {
            "text/plain": [
              "<Figure size 432x288 with 1 Axes>"
            ],
            "image/png": "[encoded data removed]"
          },
          "metadata": {
            "needs_background": "light"
          }
        }
      ]
    },
    {
      "cell_type": "code",
      "source": [
        "predicted_revenue = regr.predict([[pd.to_datetime('2023-01-01').toordinal()]])\n",
        "print(predicted_revenue[0,0])"
      ],
      "metadata": {
        "colab": {
          "base_uri": "https://localhost:8080/"
        },
        "id": "fH0CN7wH6MUR",
        "outputId": "1e75b218-d72f-42f0-dcb4-670beb4a2a2b"
      },
      "execution_count": null,
      "outputs": [
        {
          "output_type": "stream",
          "name": "stdout",
          "text": [
            "4601842137.095703\n"
          ]
        }
      ]
    }
  ]
}