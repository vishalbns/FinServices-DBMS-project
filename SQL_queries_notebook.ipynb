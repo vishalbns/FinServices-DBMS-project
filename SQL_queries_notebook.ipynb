{
    "metadata": {
        "kernelspec": {
            "name": "SQL",
            "display_name": "SQL",
            "language": "sql"
        },
        "language_info": {
            "name": "sql",
            "version": ""
        }
    },
    "nbformat_minor": 2,
    "nbformat": 4,
    "cells": [
        {
            "cell_type": "markdown",
            "source": [
                "1) Wealth Management: Wealth Managers get a one time wealth cut from the HNI clients and charge fees for each of the services they provide. The revenue will be the sum of the wealth cut and fees. Calculate how much each HNI has paid to the firm."
            ],
            "metadata": {
                "azdata_cell_guid": "9a8ddfb8-920a-4287-947d-48fd220ab5e0"
            },
            "attachments": {}
        },
        {
            "cell_type": "code",
            "source": [
                "with total_fees as (\n",
                "select HNI_id, sum(fee) as total_fees_collected\n",
                "from dma.WMprovision\n",
                "GROUP by HNI_id)\n",
                "select wc.HNI_id, c.name, (tf.total_fees_collected + wc.wealthcut) as\n",
                "total_hni_pay\n",
                "from dma.wealthcut wc join total_fees tf on wc.HNI_id=tf.HNI_id join dma.client c on wc.HNI_id = c.ID;"
            ],
            "metadata": {
                "azdata_cell_guid": "e93181b0-9420-433a-8e1a-6285a7b4c7ce",
                "language": "sql",
                "tags": []
            },
            "outputs": [
                {
                    "output_type": "display_data",
                    "data": {
                        "text/html": "(5 rows affected)"
                    },
                    "metadata": {}
                },
                {
                    "output_type": "display_data",
                    "data": {
                        "text/html": "Total execution time: 00:00:00.052"
                    },
                    "metadata": {}
                },
                {
                    "output_type": "execute_result",
                    "metadata": {},
                    "execution_count": 27,
                    "data": {
                        "application/vnd.dataresource+json": {
                            "schema": {
                                "fields": [
                                    {
                                        "name": "HNI_id"
                                    },
                                    {
                                        "name": "name"
                                    },
                                    {
                                        "name": "total_hni_pay"
                                    }
                                ]
                            },
                            "data": [
                                {
                                    "0": "1",
                                    "1": "Juana Crider",
                                    "2": "30014918"
                                },
                                {
                                    "0": "2",
                                    "1": "Darrion Matlock",
                                    "2": "50025008"
                                },
                                {
                                    "0": "3",
                                    "1": "Britney Redmond",
                                    "2": "30027761"
                                },
                                {
                                    "0": "4",
                                    "1": "Tristin Morse",
                                    "2": "20015599"
                                },
                                {
                                    "0": "5",
                                    "1": "Annalise Fleming",
                                    "2": "90023574"
                                }
                            ]
                        },
                        "text/html": [
                            "<table>",
                            "<tr><th>HNI_id</th><th>name</th><th>total_hni_pay</th></tr>",
                            "<tr><td>1</td><td>Juana Crider</td><td>30014918</td></tr>",
                            "<tr><td>2</td><td>Darrion Matlock</td><td>50025008</td></tr>",
                            "<tr><td>3</td><td>Britney Redmond</td><td>30027761</td></tr>",
                            "<tr><td>4</td><td>Tristin Morse</td><td>20015599</td></tr>",
                            "<tr><td>5</td><td>Annalise Fleming</td><td>90023574</td></tr>",
                            "</table>"
                        ]
                    }
                }
            ],
            "execution_count": 27
        },
        {
            "cell_type": "markdown",
            "source": [
                "2) Asset Management: Asset Managers along with charging fees for their services, also get a profit share from the services they provide. The revenue will be the sum of the fees and profit share. Calculate how much each AM client has paid to the firm. Also show the names of the clients."
            ],
            "metadata": {
                "azdata_cell_guid": "00fc7e9c-7e93-417b-8203-3fe9ca41589a"
            },
            "attachments": {}
        },
        {
            "cell_type": "code",
            "source": [
                "with total_pay as (\n",
                "select AMclient_id, sum(profitshare) + sum(fee) as\n",
                "total_amclient_pay from dma.AMprovision group by AMclient_id)\n",
                "select tp.AMclient_id, c.name, tp.total_amclient_pay from\n",
                "total_pay tp join dma.client c on tp.AMclient_id = c.ID;"
            ],
            "metadata": {
                "azdata_cell_guid": "cdad9793-9943-4e59-809c-0524ea00ba4f",
                "language": "sql"
            },
            "outputs": [
                {
                    "output_type": "display_data",
                    "data": {
                        "text/html": "(5 rows affected)"
                    },
                    "metadata": {}
                },
                {
                    "output_type": "display_data",
                    "data": {
                        "text/html": "Total execution time: 00:00:00.131"
                    },
                    "metadata": {}
                },
                {
                    "output_type": "execute_result",
                    "metadata": {},
                    "execution_count": 2,
                    "data": {
                        "application/vnd.dataresource+json": {
                            "schema": {
                                "fields": [
                                    {
                                        "name": "AMclient_id"
                                    },
                                    {
                                        "name": "name"
                                    },
                                    {
                                        "name": "total_amclient_pay"
                                    }
                                ]
                            },
                            "data": [
                                {
                                    "0": "6",
                                    "1": "Connor Champagne",
                                    "2": "5877"
                                },
                                {
                                    "0": "7",
                                    "1": "Janie Gilman",
                                    "2": "7367"
                                },
                                {
                                    "0": "8",
                                    "1": "Rashad Cerda",
                                    "2": "5055"
                                },
                                {
                                    "0": "27",
                                    "1": "Embedly",
                                    "2": "6330"
                                },
                                {
                                    "0": "28",
                                    "1": "Oyo",
                                    "2": "8496"
                                }
                            ]
                        },
                        "text/html": [
                            "<table>",
                            "<tr><th>AMclient_id</th><th>name</th><th>total_amclient_pay</th></tr>",
                            "<tr><td>6</td><td>Connor Champagne</td><td>5877</td></tr>",
                            "<tr><td>7</td><td>Janie Gilman</td><td>7367</td></tr>",
                            "<tr><td>8</td><td>Rashad Cerda</td><td>5055</td></tr>",
                            "<tr><td>27</td><td>Embedly</td><td>6330</td></tr>",
                            "<tr><td>28</td><td>Oyo</td><td>8496</td></tr>",
                            "</table>"
                        ]
                    }
                }
            ],
            "execution_count": 2
        },
        {
            "cell_type": "markdown",
            "source": [
                "3) Investment Banking: Investment Bankers underwrite securities of corporate companies and sell their stocks. They charge a fee/share for underwriting and selling. The revenue brought in by this division will be the (selling price - cost price)\\* quantity. Assuming all the securities are sold, show the company name, its net revenue, total selling price, total cost price and the profit Investment bankers make on the sale. The total selling price would be (the cost price per share + the underwriting fee per share) \\* quantity"
            ],
            "metadata": {
                "azdata_cell_guid": "3105eaff-0c0c-4e3c-a5ce-4d203e2cf57f"
            },
            "attachments": {}
        },
        {
            "cell_type": "code",
            "source": [
                "with IB_stock_sell_price as ( select s.security_id,\n",
                "s.corporateCo_id, (s.price_per_share + cast(u.fee_per_share as\n",
                "int))*s.total_quantity as sell_price\n",
                "from dma.securities s join dma.underwriting u on s.security_id =\n",
                "u.security_id)\n",
                "select sp.corporateCo_id, c.name, co.net_revenue, sp.sell_price,\n",
                "(s.price_per_share* cast(s.total_quantity as int)) as cost_price,\n",
                "(sp.sell_price - (s.price_per_share* cast(s.total_quantity as\n",
                "int))) as total_profit\n",
                "from IB_stock_sell_price sp join dma.client c on sp.corporateCo_id\n",
                "= c.ID join dma.securities s on sp.security_id = s.security_id\n",
                "join dma.corporateCo co on c.ID = co.client_id;"
            ],
            "metadata": {
                "azdata_cell_guid": "a666d56f-e30e-4efe-8d5c-2336ef0f1e83",
                "language": "sql"
            },
            "outputs": [
                {
                    "output_type": "display_data",
                    "data": {
                        "text/html": "(5 rows affected)"
                    },
                    "metadata": {}
                },
                {
                    "output_type": "display_data",
                    "data": {
                        "text/html": "Total execution time: 00:00:00.044"
                    },
                    "metadata": {}
                },
                {
                    "output_type": "execute_result",
                    "metadata": {},
                    "execution_count": 3,
                    "data": {
                        "application/vnd.dataresource+json": {
                            "schema": {
                                "fields": [
                                    {
                                        "name": "corporateCo_id"
                                    },
                                    {
                                        "name": "name"
                                    },
                                    {
                                        "name": "net_revenue"
                                    },
                                    {
                                        "name": "sell_price"
                                    },
                                    {
                                        "name": "cost_price"
                                    },
                                    {
                                        "name": "total_profit"
                                    }
                                ]
                            },
                            "data": [
                                {
                                    "0": "26",
                                    "1": "CustomMade",
                                    "2": "82000000",
                                    "3": "1530000",
                                    "4": "1500000",
                                    "5": "30000"
                                },
                                {
                                    "0": "27",
                                    "1": "Embedly",
                                    "2": "62000000",
                                    "3": "3075000",
                                    "4": "3000000",
                                    "5": "75000"
                                },
                                {
                                    "0": "28",
                                    "1": "Oyo",
                                    "2": "42000000",
                                    "3": "8040000",
                                    "4": "8000000",
                                    "5": "40000"
                                },
                                {
                                    "0": "29",
                                    "1": "Flipkart",
                                    "2": "22000000",
                                    "3": "985600",
                                    "4": "980000",
                                    "5": "5600"
                                },
                                {
                                    "0": "30",
                                    "1": "Boston Dynamics",
                                    "2": "20000000",
                                    "3": "1442400",
                                    "4": "1440000",
                                    "5": "2400"
                                }
                            ]
                        },
                        "text/html": [
                            "<table>",
                            "<tr><th>corporateCo_id</th><th>name</th><th>net_revenue</th><th>sell_price</th><th>cost_price</th><th>total_profit</th></tr>",
                            "<tr><td>26</td><td>CustomMade</td><td>82000000</td><td>1530000</td><td>1500000</td><td>30000</td></tr>",
                            "<tr><td>27</td><td>Embedly</td><td>62000000</td><td>3075000</td><td>3000000</td><td>75000</td></tr>",
                            "<tr><td>28</td><td>Oyo</td><td>42000000</td><td>8040000</td><td>8000000</td><td>40000</td></tr>",
                            "<tr><td>29</td><td>Flipkart</td><td>22000000</td><td>985600</td><td>980000</td><td>5600</td></tr>",
                            "<tr><td>30</td><td>Boston Dynamics</td><td>20000000</td><td>1442400</td><td>1440000</td><td>2400</td></tr>",
                            "</table>"
                        ]
                    }
                }
            ],
            "execution_count": 3
        },
        {
            "cell_type": "markdown",
            "source": [
                "4) Private Banking: The money this division brings in is simple. It is the sum of the total savings of the commoners who open an account with the bank. Of course, the net revenue or total profit would be from the high interest loan rates and low savings interest rates. This is captured in the revenue table, but for the sake of the simplicity of this project, this is not expanded."
            ],
            "metadata": {
                "azdata_cell_guid": "e3a8ac58-c7b5-4849-9b73-62d682d5302d"
            },
            "attachments": {}
        },
        {
            "cell_type": "code",
            "source": [
                "select sum(total_savings) as total_inflow from dma.commoner;"
            ],
            "metadata": {
                "azdata_cell_guid": "37007912-f364-4b1c-8bce-d83da37a70ab",
                "language": "sql"
            },
            "outputs": [
                {
                    "output_type": "display_data",
                    "data": {
                        "text/html": "(1 row affected)"
                    },
                    "metadata": {}
                },
                {
                    "output_type": "display_data",
                    "data": {
                        "text/html": "Total execution time: 00:00:00.039"
                    },
                    "metadata": {}
                },
                {
                    "output_type": "execute_result",
                    "metadata": {},
                    "execution_count": 4,
                    "data": {
                        "application/vnd.dataresource+json": {
                            "schema": {
                                "fields": [
                                    {
                                        "name": "total_inflow"
                                    }
                                ]
                            },
                            "data": [
                                {
                                    "0": "951009"
                                }
                            ]
                        },
                        "text/html": [
                            "<table>",
                            "<tr><th>total_inflow</th></tr>",
                            "<tr><td>951009</td></tr>",
                            "</table>"
                        ]
                    }
                }
            ],
            "execution_count": 4
        },
        {
            "cell_type": "markdown",
            "source": [
                "5) The firm wants to look at the running total of the revenue of each of its division starting from 1st jan 2020 to till date to keep track of its progress. Below query calculates the running total ordered by month."
            ],
            "metadata": {
                "azdata_cell_guid": "c4f77e13-34cf-46b3-b55d-c46f1f654c84"
            },
            "attachments": {}
        },
        {
            "cell_type": "code",
            "source": [
                "select div_id, month, revenue, sum(revenue)\n",
                "over (partition by div_id order by month rows between unbounded\n",
                "preceding and current row) as runningtotal\n",
                "from dma.revenue;"
            ],
            "metadata": {
                "azdata_cell_guid": "3fc33a03-64ad-47bd-8852-42d3c6f453a2",
                "language": "sql"
            },
            "outputs": [
                {
                    "output_type": "display_data",
                    "data": {
                        "text/html": "(144 rows affected)"
                    },
                    "metadata": {}
                },
                {
                    "output_type": "display_data",
                    "data": {
                        "text/html": "Total execution time: 00:00:00.050"
                    },
                    "metadata": {}
                },
                {
                    "output_type": "execute_result",
                    "metadata": {},
                    "execution_count": 5,
                    "data": {
                        "application/vnd.dataresource+json": {
                            "schema": {
                                "fields": [
                                    {
                                        "name": "div_id"
                                    },
                                    {
                                        "name": "month"
                                    },
                                    {
                                        "name": "revenue"
                                    },
                                    {
                                        "name": "runningtotal"
                                    }
                                ]
                            },
                            "data": [
                                {
                                    "0": "1",
                                    "1": "2020-01-01",
                                    "2": "1000000000",
                                    "3": "1000000000"
                                },
                                {
                                    "0": "1",
                                    "1": "2020-02-01",
                                    "2": "1100000000",
                                    "3": "2100000000"
                                },
                                {
                                    "0": "1",
                                    "1": "2020-03-01",
                                    "2": "1200000000",
                                    "3": "3300000000"
                                },
                                {
                                    "0": "1",
                                    "1": "2020-04-01",
                                    "2": "1300000000",
                                    "3": "4600000000"
                                },
                                {
                                    "0": "1",
                                    "1": "2020-05-01",
                                    "2": "1400000000",
                                    "3": "6000000000"
                                },
                                {
                                    "0": "1",
                                    "1": "2020-06-01",
                                    "2": "1500000000",
                                    "3": "7500000000"
                                },
                                {
                                    "0": "1",
                                    "1": "2020-07-01",
                                    "2": "1600000000",
                                    "3": "9100000000"
                                },
                                {
                                    "0": "1",
                                    "1": "2020-08-01",
                                    "2": "1700000000",
                                    "3": "10800000000"
                                },
                                {
                                    "0": "1",
                                    "1": "2020-09-01",
                                    "2": "1800000000",
                                    "3": "12600000000"
                                },
                                {
                                    "0": "1",
                                    "1": "2020-10-01",
                                    "2": "1900000000",
                                    "3": "14500000000"
                                },
                                {
                                    "0": "1",
                                    "1": "2020-11-01",
                                    "2": "2000000000",
                                    "3": "16500000000"
                                },
                                {
                                    "0": "1",
                                    "1": "2020-12-01",
                                    "2": "2100000000",
                                    "3": "18600000000"
                                },
                                {
                                    "0": "1",
                                    "1": "2021-01-01",
                                    "2": "2200000000",
                                    "3": "20800000000"
                                },
                                {
                                    "0": "1",
                                    "1": "2021-02-01",
                                    "2": "2300000000",
                                    "3": "23100000000"
                                },
                                {
                                    "0": "1",
                                    "1": "2021-03-01",
                                    "2": "2400000000",
                                    "3": "25500000000"
                                },
                                {
                                    "0": "1",
                                    "1": "2021-04-01",
                                    "2": "2500000000",
                                    "3": "28000000000"
                                },
                                {
                                    "0": "1",
                                    "1": "2021-05-01",
                                    "2": "2600000000",
                                    "3": "30600000000"
                                },
                                {
                                    "0": "1",
                                    "1": "2021-06-01",
                                    "2": "2700000000",
                                    "3": "33300000000"
                                },
                                {
                                    "0": "1",
                                    "1": "2021-07-01",
                                    "2": "2800000000",
                                    "3": "36100000000"
                                },
                                {
                                    "0": "1",
                                    "1": "2021-08-01",
                                    "2": "2900000000",
                                    "3": "39000000000"
                                },
                                {
                                    "0": "1",
                                    "1": "2021-09-01",
                                    "2": "3000000000",
                                    "3": "42000000000"
                                },
                                {
                                    "0": "1",
                                    "1": "2021-10-01",
                                    "2": "3100000000",
                                    "3": "45100000000"
                                },
                                {
                                    "0": "1",
                                    "1": "2021-11-01",
                                    "2": "3200000000",
                                    "3": "48300000000"
                                },
                                {
                                    "0": "1",
                                    "1": "2021-12-01",
                                    "2": "3300000000",
                                    "3": "51600000000"
                                },
                                {
                                    "0": "1",
                                    "1": "2022-01-01",
                                    "2": "3400000000",
                                    "3": "55000000000"
                                },
                                {
                                    "0": "1",
                                    "1": "2022-02-01",
                                    "2": "3500000000",
                                    "3": "58500000000"
                                },
                                {
                                    "0": "1",
                                    "1": "2022-03-01",
                                    "2": "3600000000",
                                    "3": "62100000000"
                                },
                                {
                                    "0": "1",
                                    "1": "2022-04-01",
                                    "2": "3700000000",
                                    "3": "65800000000"
                                },
                                {
                                    "0": "1",
                                    "1": "2022-05-01",
                                    "2": "3800000000",
                                    "3": "69600000000"
                                },
                                {
                                    "0": "1",
                                    "1": "2022-06-01",
                                    "2": "3900000000",
                                    "3": "73500000000"
                                },
                                {
                                    "0": "1",
                                    "1": "2022-07-01",
                                    "2": "4000000000",
                                    "3": "77500000000"
                                },
                                {
                                    "0": "1",
                                    "1": "2022-08-01",
                                    "2": "4100000000",
                                    "3": "81600000000"
                                },
                                {
                                    "0": "1",
                                    "1": "2022-09-01",
                                    "2": "4200000000",
                                    "3": "85800000000"
                                },
                                {
                                    "0": "1",
                                    "1": "2022-10-01",
                                    "2": "4300000000",
                                    "3": "90100000000"
                                },
                                {
                                    "0": "1",
                                    "1": "2022-11-01",
                                    "2": "4400000000",
                                    "3": "94500000000"
                                },
                                {
                                    "0": "1",
                                    "1": "2022-12-01",
                                    "2": "4500000000",
                                    "3": "99000000000"
                                },
                                {
                                    "0": "2",
                                    "1": "2020-01-01",
                                    "2": "500000000",
                                    "3": "500000000"
                                },
                                {
                                    "0": "2",
                                    "1": "2020-02-01",
                                    "2": "600000000",
                                    "3": "1100000000"
                                },
                                {
                                    "0": "2",
                                    "1": "2020-03-01",
                                    "2": "700000000",
                                    "3": "1800000000"
                                },
                                {
                                    "0": "2",
                                    "1": "2020-04-01",
                                    "2": "800000000",
                                    "3": "2600000000"
                                },
                                {
                                    "0": "2",
                                    "1": "2020-05-01",
                                    "2": "900000000",
                                    "3": "3500000000"
                                },
                                {
                                    "0": "2",
                                    "1": "2020-06-01",
                                    "2": "1000000000",
                                    "3": "4500000000"
                                },
                                {
                                    "0": "2",
                                    "1": "2020-07-01",
                                    "2": "1100000000",
                                    "3": "5600000000"
                                },
                                {
                                    "0": "2",
                                    "1": "2020-08-01",
                                    "2": "1200000000",
                                    "3": "6800000000"
                                },
                                {
                                    "0": "2",
                                    "1": "2020-09-01",
                                    "2": "1300000000",
                                    "3": "8100000000"
                                },
                                {
                                    "0": "2",
                                    "1": "2020-10-01",
                                    "2": "1400000000",
                                    "3": "9500000000"
                                },
                                {
                                    "0": "2",
                                    "1": "2020-11-01",
                                    "2": "1500000000",
                                    "3": "11000000000"
                                },
                                {
                                    "0": "2",
                                    "1": "2020-12-01",
                                    "2": "1600000000",
                                    "3": "12600000000"
                                },
                                {
                                    "0": "2",
                                    "1": "2021-01-01",
                                    "2": "1700000000",
                                    "3": "14300000000"
                                },
                                {
                                    "0": "2",
                                    "1": "2021-02-01",
                                    "2": "1800000000",
                                    "3": "16100000000"
                                },
                                {
                                    "0": "2",
                                    "1": "2021-03-01",
                                    "2": "1900000000",
                                    "3": "18000000000"
                                },
                                {
                                    "0": "2",
                                    "1": "2021-04-01",
                                    "2": "2000000000",
                                    "3": "20000000000"
                                },
                                {
                                    "0": "2",
                                    "1": "2021-05-01",
                                    "2": "2100000000",
                                    "3": "22100000000"
                                },
                                {
                                    "0": "2",
                                    "1": "2021-06-01",
                                    "2": "2200000000",
                                    "3": "24300000000"
                                },
                                {
                                    "0": "2",
                                    "1": "2021-07-01",
                                    "2": "2300000000",
                                    "3": "26600000000"
                                },
                                {
                                    "0": "2",
                                    "1": "2021-08-01",
                                    "2": "2400000000",
                                    "3": "29000000000"
                                },
                                {
                                    "0": "2",
                                    "1": "2021-09-01",
                                    "2": "2500000000",
                                    "3": "31500000000"
                                },
                                {
                                    "0": "2",
                                    "1": "2021-10-01",
                                    "2": "2600000000",
                                    "3": "34100000000"
                                },
                                {
                                    "0": "2",
                                    "1": "2021-11-01",
                                    "2": "2700000000",
                                    "3": "36800000000"
                                },
                                {
                                    "0": "2",
                                    "1": "2021-12-01",
                                    "2": "2800000000",
                                    "3": "39600000000"
                                },
                                {
                                    "0": "2",
                                    "1": "2022-01-01",
                                    "2": "2900000000",
                                    "3": "42500000000"
                                },
                                {
                                    "0": "2",
                                    "1": "2022-02-01",
                                    "2": "3000000000",
                                    "3": "45500000000"
                                },
                                {
                                    "0": "2",
                                    "1": "2022-03-01",
                                    "2": "3100000000",
                                    "3": "48600000000"
                                },
                                {
                                    "0": "2",
                                    "1": "2022-04-01",
                                    "2": "3200000000",
                                    "3": "51800000000"
                                },
                                {
                                    "0": "2",
                                    "1": "2022-05-01",
                                    "2": "3300000000",
                                    "3": "55100000000"
                                },
                                {
                                    "0": "2",
                                    "1": "2022-06-01",
                                    "2": "3400000000",
                                    "3": "58500000000"
                                },
                                {
                                    "0": "2",
                                    "1": "2022-07-01",
                                    "2": "3500000000",
                                    "3": "62000000000"
                                },
                                {
                                    "0": "2",
                                    "1": "2022-08-01",
                                    "2": "3600000000",
                                    "3": "65600000000"
                                },
                                {
                                    "0": "2",
                                    "1": "2022-09-01",
                                    "2": "3700000000",
                                    "3": "69300000000"
                                },
                                {
                                    "0": "2",
                                    "1": "2022-10-01",
                                    "2": "3800000000",
                                    "3": "73100000000"
                                },
                                {
                                    "0": "2",
                                    "1": "2022-11-01",
                                    "2": "3900000000",
                                    "3": "77000000000"
                                },
                                {
                                    "0": "2",
                                    "1": "2022-12-01",
                                    "2": "4000000000",
                                    "3": "81000000000"
                                },
                                {
                                    "0": "3",
                                    "1": "2020-01-01",
                                    "2": "1000000000",
                                    "3": "1000000000"
                                },
                                {
                                    "0": "3",
                                    "1": "2020-02-01",
                                    "2": "1200000000",
                                    "3": "2200000000"
                                },
                                {
                                    "0": "3",
                                    "1": "2020-03-01",
                                    "2": "1400000000",
                                    "3": "3600000000"
                                },
                                {
                                    "0": "3",
                                    "1": "2020-04-01",
                                    "2": "1600000000",
                                    "3": "5200000000"
                                },
                                {
                                    "0": "3",
                                    "1": "2020-05-01",
                                    "2": "1800000000",
                                    "3": "7000000000"
                                },
                                {
                                    "0": "3",
                                    "1": "2020-06-01",
                                    "2": "2000000000",
                                    "3": "9000000000"
                                },
                                {
                                    "0": "3",
                                    "1": "2020-07-01",
                                    "2": "2200000000",
                                    "3": "11200000000"
                                },
                                {
                                    "0": "3",
                                    "1": "2020-08-01",
                                    "2": "2400000000",
                                    "3": "13600000000"
                                },
                                {
                                    "0": "3",
                                    "1": "2020-09-01",
                                    "2": "2600000000",
                                    "3": "16200000000"
                                },
                                {
                                    "0": "3",
                                    "1": "2020-10-01",
                                    "2": "2800000000",
                                    "3": "19000000000"
                                },
                                {
                                    "0": "3",
                                    "1": "2020-11-01",
                                    "2": "3000000000",
                                    "3": "22000000000"
                                },
                                {
                                    "0": "3",
                                    "1": "2020-12-01",
                                    "2": "3200000000",
                                    "3": "25200000000"
                                },
                                {
                                    "0": "3",
                                    "1": "2021-01-01",
                                    "2": "3400000000",
                                    "3": "28600000000"
                                },
                                {
                                    "0": "3",
                                    "1": "2021-02-01",
                                    "2": "3600000000",
                                    "3": "32200000000"
                                },
                                {
                                    "0": "3",
                                    "1": "2021-03-01",
                                    "2": "3800000000",
                                    "3": "36000000000"
                                },
                                {
                                    "0": "3",
                                    "1": "2021-04-01",
                                    "2": "4000000000",
                                    "3": "40000000000"
                                },
                                {
                                    "0": "3",
                                    "1": "2021-05-01",
                                    "2": "4200000000",
                                    "3": "44200000000"
                                },
                                {
                                    "0": "3",
                                    "1": "2021-06-01",
                                    "2": "4400000000",
                                    "3": "48600000000"
                                },
                                {
                                    "0": "3",
                                    "1": "2021-07-01",
                                    "2": "4600000000",
                                    "3": "53200000000"
                                },
                                {
                                    "0": "3",
                                    "1": "2021-08-01",
                                    "2": "4800000000",
                                    "3": "58000000000"
                                },
                                {
                                    "0": "3",
                                    "1": "2021-09-01",
                                    "2": "5000000000",
                                    "3": "63000000000"
                                },
                                {
                                    "0": "3",
                                    "1": "2021-10-01",
                                    "2": "5200000000",
                                    "3": "68200000000"
                                },
                                {
                                    "0": "3",
                                    "1": "2021-11-01",
                                    "2": "5400000000",
                                    "3": "73600000000"
                                },
                                {
                                    "0": "3",
                                    "1": "2021-12-01",
                                    "2": "5600000000",
                                    "3": "79200000000"
                                },
                                {
                                    "0": "3",
                                    "1": "2022-01-01",
                                    "2": "5800000000",
                                    "3": "85000000000"
                                },
                                {
                                    "0": "3",
                                    "1": "2022-02-01",
                                    "2": "6000000000",
                                    "3": "91000000000"
                                },
                                {
                                    "0": "3",
                                    "1": "2022-03-01",
                                    "2": "6200000000",
                                    "3": "97200000000"
                                },
                                {
                                    "0": "3",
                                    "1": "2022-04-01",
                                    "2": "6400000000",
                                    "3": "103600000000"
                                },
                                {
                                    "0": "3",
                                    "1": "2022-05-01",
                                    "2": "6600000000",
                                    "3": "110200000000"
                                },
                                {
                                    "0": "3",
                                    "1": "2022-06-01",
                                    "2": "6800000000",
                                    "3": "117000000000"
                                },
                                {
                                    "0": "3",
                                    "1": "2022-07-01",
                                    "2": "7000000000",
                                    "3": "124000000000"
                                },
                                {
                                    "0": "3",
                                    "1": "2022-08-01",
                                    "2": "7200000000",
                                    "3": "131200000000"
                                },
                                {
                                    "0": "3",
                                    "1": "2022-09-01",
                                    "2": "7400000000",
                                    "3": "138600000000"
                                },
                                {
                                    "0": "3",
                                    "1": "2022-10-01",
                                    "2": "7600000000",
                                    "3": "146200000000"
                                },
                                {
                                    "0": "3",
                                    "1": "2022-11-01",
                                    "2": "7800000000",
                                    "3": "154000000000"
                                },
                                {
                                    "0": "3",
                                    "1": "2022-12-01",
                                    "2": "8000000000",
                                    "3": "162000000000"
                                },
                                {
                                    "0": "4",
                                    "1": "2020-01-01",
                                    "2": "200000000",
                                    "3": "200000000"
                                },
                                {
                                    "0": "4",
                                    "1": "2020-02-01",
                                    "2": "210000000",
                                    "3": "410000000"
                                },
                                {
                                    "0": "4",
                                    "1": "2020-03-01",
                                    "2": "220000000",
                                    "3": "630000000"
                                },
                                {
                                    "0": "4",
                                    "1": "2020-04-01",
                                    "2": "230000000",
                                    "3": "860000000"
                                },
                                {
                                    "0": "4",
                                    "1": "2020-05-01",
                                    "2": "240000000",
                                    "3": "1100000000"
                                },
                                {
                                    "0": "4",
                                    "1": "2020-06-01",
                                    "2": "250000000",
                                    "3": "1350000000"
                                },
                                {
                                    "0": "4",
                                    "1": "2020-07-01",
                                    "2": "260000000",
                                    "3": "1610000000"
                                },
                                {
                                    "0": "4",
                                    "1": "2020-08-01",
                                    "2": "270000000",
                                    "3": "1880000000"
                                },
                                {
                                    "0": "4",
                                    "1": "2020-09-01",
                                    "2": "280000000",
                                    "3": "2160000000"
                                },
                                {
                                    "0": "4",
                                    "1": "2020-10-01",
                                    "2": "290000000",
                                    "3": "2450000000"
                                },
                                {
                                    "0": "4",
                                    "1": "2020-11-01",
                                    "2": "300000000",
                                    "3": "2750000000"
                                },
                                {
                                    "0": "4",
                                    "1": "2020-12-01",
                                    "2": "310000000",
                                    "3": "3060000000"
                                },
                                {
                                    "0": "4",
                                    "1": "2021-01-01",
                                    "2": "320000000",
                                    "3": "3380000000"
                                },
                                {
                                    "0": "4",
                                    "1": "2021-02-01",
                                    "2": "330000000",
                                    "3": "3710000000"
                                },
                                {
                                    "0": "4",
                                    "1": "2021-03-01",
                                    "2": "340000000",
                                    "3": "4050000000"
                                },
                                {
                                    "0": "4",
                                    "1": "2021-04-01",
                                    "2": "350000000",
                                    "3": "4400000000"
                                },
                                {
                                    "0": "4",
                                    "1": "2021-05-01",
                                    "2": "360000000",
                                    "3": "4760000000"
                                },
                                {
                                    "0": "4",
                                    "1": "2021-06-01",
                                    "2": "370000000",
                                    "3": "5130000000"
                                },
                                {
                                    "0": "4",
                                    "1": "2021-07-01",
                                    "2": "380000000",
                                    "3": "5510000000"
                                },
                                {
                                    "0": "4",
                                    "1": "2021-08-01",
                                    "2": "390000000",
                                    "3": "5900000000"
                                },
                                {
                                    "0": "4",
                                    "1": "2021-09-01",
                                    "2": "400000000",
                                    "3": "6300000000"
                                },
                                {
                                    "0": "4",
                                    "1": "2021-10-01",
                                    "2": "410000000",
                                    "3": "6710000000"
                                },
                                {
                                    "0": "4",
                                    "1": "2021-11-01",
                                    "2": "420000000",
                                    "3": "7130000000"
                                },
                                {
                                    "0": "4",
                                    "1": "2021-12-01",
                                    "2": "430000000",
                                    "3": "7560000000"
                                },
                                {
                                    "0": "4",
                                    "1": "2022-01-01",
                                    "2": "440000000",
                                    "3": "8000000000"
                                },
                                {
                                    "0": "4",
                                    "1": "2022-02-01",
                                    "2": "450000000",
                                    "3": "8450000000"
                                },
                                {
                                    "0": "4",
                                    "1": "2022-03-01",
                                    "2": "460000000",
                                    "3": "8910000000"
                                },
                                {
                                    "0": "4",
                                    "1": "2022-04-01",
                                    "2": "470000000",
                                    "3": "9380000000"
                                },
                                {
                                    "0": "4",
                                    "1": "2022-05-01",
                                    "2": "480000000",
                                    "3": "9860000000"
                                },
                                {
                                    "0": "4",
                                    "1": "2022-06-01",
                                    "2": "490000000",
                                    "3": "10350000000"
                                },
                                {
                                    "0": "4",
                                    "1": "2022-07-01",
                                    "2": "500000000",
                                    "3": "10850000000"
                                },
                                {
                                    "0": "4",
                                    "1": "2022-08-01",
                                    "2": "510000000",
                                    "3": "11360000000"
                                },
                                {
                                    "0": "4",
                                    "1": "2022-09-01",
                                    "2": "520000000",
                                    "3": "11880000000"
                                },
                                {
                                    "0": "4",
                                    "1": "2022-10-01",
                                    "2": "530000000",
                                    "3": "12410000000"
                                },
                                {
                                    "0": "4",
                                    "1": "2022-11-01",
                                    "2": "540000000",
                                    "3": "12950000000"
                                },
                                {
                                    "0": "4",
                                    "1": "2022-12-01",
                                    "2": "550000000",
                                    "3": "13500000000"
                                }
                            ]
                        },
                        "text/html": [
                            "<table>",
                            "<tr><th>div_id</th><th>month</th><th>revenue</th><th>runningtotal</th></tr>",
                            "<tr><td>1</td><td>2020-01-01</td><td>1000000000</td><td>1000000000</td></tr>",
                            "<tr><td>1</td><td>2020-02-01</td><td>1100000000</td><td>2100000000</td></tr>",
                            "<tr><td>1</td><td>2020-03-01</td><td>1200000000</td><td>3300000000</td></tr>",
                            "<tr><td>1</td><td>2020-04-01</td><td>1300000000</td><td>4600000000</td></tr>",
                            "<tr><td>1</td><td>2020-05-01</td><td>1400000000</td><td>6000000000</td></tr>",
                            "<tr><td>1</td><td>2020-06-01</td><td>1500000000</td><td>7500000000</td></tr>",
                            "<tr><td>1</td><td>2020-07-01</td><td>1600000000</td><td>9100000000</td></tr>",
                            "<tr><td>1</td><td>2020-08-01</td><td>1700000000</td><td>10800000000</td></tr>",
                            "<tr><td>1</td><td>2020-09-01</td><td>1800000000</td><td>12600000000</td></tr>",
                            "<tr><td>1</td><td>2020-10-01</td><td>1900000000</td><td>14500000000</td></tr>",
                            "<tr><td>1</td><td>2020-11-01</td><td>2000000000</td><td>16500000000</td></tr>",
                            "<tr><td>1</td><td>2020-12-01</td><td>2100000000</td><td>18600000000</td></tr>",
                            "<tr><td>1</td><td>2021-01-01</td><td>2200000000</td><td>20800000000</td></tr>",
                            "<tr><td>1</td><td>2021-02-01</td><td>2300000000</td><td>23100000000</td></tr>",
                            "<tr><td>1</td><td>2021-03-01</td><td>2400000000</td><td>25500000000</td></tr>",
                            "<tr><td>1</td><td>2021-04-01</td><td>2500000000</td><td>28000000000</td></tr>",
                            "<tr><td>1</td><td>2021-05-01</td><td>2600000000</td><td>30600000000</td></tr>",
                            "<tr><td>1</td><td>2021-06-01</td><td>2700000000</td><td>33300000000</td></tr>",
                            "<tr><td>1</td><td>2021-07-01</td><td>2800000000</td><td>36100000000</td></tr>",
                            "<tr><td>1</td><td>2021-08-01</td><td>2900000000</td><td>39000000000</td></tr>",
                            "<tr><td>1</td><td>2021-09-01</td><td>3000000000</td><td>42000000000</td></tr>",
                            "<tr><td>1</td><td>2021-10-01</td><td>3100000000</td><td>45100000000</td></tr>",
                            "<tr><td>1</td><td>2021-11-01</td><td>3200000000</td><td>48300000000</td></tr>",
                            "<tr><td>1</td><td>2021-12-01</td><td>3300000000</td><td>51600000000</td></tr>",
                            "<tr><td>1</td><td>2022-01-01</td><td>3400000000</td><td>55000000000</td></tr>",
                            "<tr><td>1</td><td>2022-02-01</td><td>3500000000</td><td>58500000000</td></tr>",
                            "<tr><td>1</td><td>2022-03-01</td><td>3600000000</td><td>62100000000</td></tr>",
                            "<tr><td>1</td><td>2022-04-01</td><td>3700000000</td><td>65800000000</td></tr>",
                            "<tr><td>1</td><td>2022-05-01</td><td>3800000000</td><td>69600000000</td></tr>",
                            "<tr><td>1</td><td>2022-06-01</td><td>3900000000</td><td>73500000000</td></tr>",
                            "<tr><td>1</td><td>2022-07-01</td><td>4000000000</td><td>77500000000</td></tr>",
                            "<tr><td>1</td><td>2022-08-01</td><td>4100000000</td><td>81600000000</td></tr>",
                            "<tr><td>1</td><td>2022-09-01</td><td>4200000000</td><td>85800000000</td></tr>",
                            "<tr><td>1</td><td>2022-10-01</td><td>4300000000</td><td>90100000000</td></tr>",
                            "<tr><td>1</td><td>2022-11-01</td><td>4400000000</td><td>94500000000</td></tr>",
                            "<tr><td>1</td><td>2022-12-01</td><td>4500000000</td><td>99000000000</td></tr>",
                            "<tr><td>2</td><td>2020-01-01</td><td>500000000</td><td>500000000</td></tr>",
                            "<tr><td>2</td><td>2020-02-01</td><td>600000000</td><td>1100000000</td></tr>",
                            "<tr><td>2</td><td>2020-03-01</td><td>700000000</td><td>1800000000</td></tr>",
                            "<tr><td>2</td><td>2020-04-01</td><td>800000000</td><td>2600000000</td></tr>",
                            "<tr><td>2</td><td>2020-05-01</td><td>900000000</td><td>3500000000</td></tr>",
                            "<tr><td>2</td><td>2020-06-01</td><td>1000000000</td><td>4500000000</td></tr>",
                            "<tr><td>2</td><td>2020-07-01</td><td>1100000000</td><td>5600000000</td></tr>",
                            "<tr><td>2</td><td>2020-08-01</td><td>1200000000</td><td>6800000000</td></tr>",
                            "<tr><td>2</td><td>2020-09-01</td><td>1300000000</td><td>8100000000</td></tr>",
                            "<tr><td>2</td><td>2020-10-01</td><td>1400000000</td><td>9500000000</td></tr>",
                            "<tr><td>2</td><td>2020-11-01</td><td>1500000000</td><td>11000000000</td></tr>",
                            "<tr><td>2</td><td>2020-12-01</td><td>1600000000</td><td>12600000000</td></tr>",
                            "<tr><td>2</td><td>2021-01-01</td><td>1700000000</td><td>14300000000</td></tr>",
                            "<tr><td>2</td><td>2021-02-01</td><td>1800000000</td><td>16100000000</td></tr>",
                            "<tr><td>2</td><td>2021-03-01</td><td>1900000000</td><td>18000000000</td></tr>",
                            "<tr><td>2</td><td>2021-04-01</td><td>2000000000</td><td>20000000000</td></tr>",
                            "<tr><td>2</td><td>2021-05-01</td><td>2100000000</td><td>22100000000</td></tr>",
                            "<tr><td>2</td><td>2021-06-01</td><td>2200000000</td><td>24300000000</td></tr>",
                            "<tr><td>2</td><td>2021-07-01</td><td>2300000000</td><td>26600000000</td></tr>",
                            "<tr><td>2</td><td>2021-08-01</td><td>2400000000</td><td>29000000000</td></tr>",
                            "<tr><td>2</td><td>2021-09-01</td><td>2500000000</td><td>31500000000</td></tr>",
                            "<tr><td>2</td><td>2021-10-01</td><td>2600000000</td><td>34100000000</td></tr>",
                            "<tr><td>2</td><td>2021-11-01</td><td>2700000000</td><td>36800000000</td></tr>",
                            "<tr><td>2</td><td>2021-12-01</td><td>2800000000</td><td>39600000000</td></tr>",
                            "<tr><td>2</td><td>2022-01-01</td><td>2900000000</td><td>42500000000</td></tr>",
                            "<tr><td>2</td><td>2022-02-01</td><td>3000000000</td><td>45500000000</td></tr>",
                            "<tr><td>2</td><td>2022-03-01</td><td>3100000000</td><td>48600000000</td></tr>",
                            "<tr><td>2</td><td>2022-04-01</td><td>3200000000</td><td>51800000000</td></tr>",
                            "<tr><td>2</td><td>2022-05-01</td><td>3300000000</td><td>55100000000</td></tr>",
                            "<tr><td>2</td><td>2022-06-01</td><td>3400000000</td><td>58500000000</td></tr>",
                            "<tr><td>2</td><td>2022-07-01</td><td>3500000000</td><td>62000000000</td></tr>",
                            "<tr><td>2</td><td>2022-08-01</td><td>3600000000</td><td>65600000000</td></tr>",
                            "<tr><td>2</td><td>2022-09-01</td><td>3700000000</td><td>69300000000</td></tr>",
                            "<tr><td>2</td><td>2022-10-01</td><td>3800000000</td><td>73100000000</td></tr>",
                            "<tr><td>2</td><td>2022-11-01</td><td>3900000000</td><td>77000000000</td></tr>",
                            "<tr><td>2</td><td>2022-12-01</td><td>4000000000</td><td>81000000000</td></tr>",
                            "<tr><td>3</td><td>2020-01-01</td><td>1000000000</td><td>1000000000</td></tr>",
                            "<tr><td>3</td><td>2020-02-01</td><td>1200000000</td><td>2200000000</td></tr>",
                            "<tr><td>3</td><td>2020-03-01</td><td>1400000000</td><td>3600000000</td></tr>",
                            "<tr><td>3</td><td>2020-04-01</td><td>1600000000</td><td>5200000000</td></tr>",
                            "<tr><td>3</td><td>2020-05-01</td><td>1800000000</td><td>7000000000</td></tr>",
                            "<tr><td>3</td><td>2020-06-01</td><td>2000000000</td><td>9000000000</td></tr>",
                            "<tr><td>3</td><td>2020-07-01</td><td>2200000000</td><td>11200000000</td></tr>",
                            "<tr><td>3</td><td>2020-08-01</td><td>2400000000</td><td>13600000000</td></tr>",
                            "<tr><td>3</td><td>2020-09-01</td><td>2600000000</td><td>16200000000</td></tr>",
                            "<tr><td>3</td><td>2020-10-01</td><td>2800000000</td><td>19000000000</td></tr>",
                            "<tr><td>3</td><td>2020-11-01</td><td>3000000000</td><td>22000000000</td></tr>",
                            "<tr><td>3</td><td>2020-12-01</td><td>3200000000</td><td>25200000000</td></tr>",
                            "<tr><td>3</td><td>2021-01-01</td><td>3400000000</td><td>28600000000</td></tr>",
                            "<tr><td>3</td><td>2021-02-01</td><td>3600000000</td><td>32200000000</td></tr>",
                            "<tr><td>3</td><td>2021-03-01</td><td>3800000000</td><td>36000000000</td></tr>",
                            "<tr><td>3</td><td>2021-04-01</td><td>4000000000</td><td>40000000000</td></tr>",
                            "<tr><td>3</td><td>2021-05-01</td><td>4200000000</td><td>44200000000</td></tr>",
                            "<tr><td>3</td><td>2021-06-01</td><td>4400000000</td><td>48600000000</td></tr>",
                            "<tr><td>3</td><td>2021-07-01</td><td>4600000000</td><td>53200000000</td></tr>",
                            "<tr><td>3</td><td>2021-08-01</td><td>4800000000</td><td>58000000000</td></tr>",
                            "<tr><td>3</td><td>2021-09-01</td><td>5000000000</td><td>63000000000</td></tr>",
                            "<tr><td>3</td><td>2021-10-01</td><td>5200000000</td><td>68200000000</td></tr>",
                            "<tr><td>3</td><td>2021-11-01</td><td>5400000000</td><td>73600000000</td></tr>",
                            "<tr><td>3</td><td>2021-12-01</td><td>5600000000</td><td>79200000000</td></tr>",
                            "<tr><td>3</td><td>2022-01-01</td><td>5800000000</td><td>85000000000</td></tr>",
                            "<tr><td>3</td><td>2022-02-01</td><td>6000000000</td><td>91000000000</td></tr>",
                            "<tr><td>3</td><td>2022-03-01</td><td>6200000000</td><td>97200000000</td></tr>",
                            "<tr><td>3</td><td>2022-04-01</td><td>6400000000</td><td>103600000000</td></tr>",
                            "<tr><td>3</td><td>2022-05-01</td><td>6600000000</td><td>110200000000</td></tr>",
                            "<tr><td>3</td><td>2022-06-01</td><td>6800000000</td><td>117000000000</td></tr>",
                            "<tr><td>3</td><td>2022-07-01</td><td>7000000000</td><td>124000000000</td></tr>",
                            "<tr><td>3</td><td>2022-08-01</td><td>7200000000</td><td>131200000000</td></tr>",
                            "<tr><td>3</td><td>2022-09-01</td><td>7400000000</td><td>138600000000</td></tr>",
                            "<tr><td>3</td><td>2022-10-01</td><td>7600000000</td><td>146200000000</td></tr>",
                            "<tr><td>3</td><td>2022-11-01</td><td>7800000000</td><td>154000000000</td></tr>",
                            "<tr><td>3</td><td>2022-12-01</td><td>8000000000</td><td>162000000000</td></tr>",
                            "<tr><td>4</td><td>2020-01-01</td><td>200000000</td><td>200000000</td></tr>",
                            "<tr><td>4</td><td>2020-02-01</td><td>210000000</td><td>410000000</td></tr>",
                            "<tr><td>4</td><td>2020-03-01</td><td>220000000</td><td>630000000</td></tr>",
                            "<tr><td>4</td><td>2020-04-01</td><td>230000000</td><td>860000000</td></tr>",
                            "<tr><td>4</td><td>2020-05-01</td><td>240000000</td><td>1100000000</td></tr>",
                            "<tr><td>4</td><td>2020-06-01</td><td>250000000</td><td>1350000000</td></tr>",
                            "<tr><td>4</td><td>2020-07-01</td><td>260000000</td><td>1610000000</td></tr>",
                            "<tr><td>4</td><td>2020-08-01</td><td>270000000</td><td>1880000000</td></tr>",
                            "<tr><td>4</td><td>2020-09-01</td><td>280000000</td><td>2160000000</td></tr>",
                            "<tr><td>4</td><td>2020-10-01</td><td>290000000</td><td>2450000000</td></tr>",
                            "<tr><td>4</td><td>2020-11-01</td><td>300000000</td><td>2750000000</td></tr>",
                            "<tr><td>4</td><td>2020-12-01</td><td>310000000</td><td>3060000000</td></tr>",
                            "<tr><td>4</td><td>2021-01-01</td><td>320000000</td><td>3380000000</td></tr>",
                            "<tr><td>4</td><td>2021-02-01</td><td>330000000</td><td>3710000000</td></tr>",
                            "<tr><td>4</td><td>2021-03-01</td><td>340000000</td><td>4050000000</td></tr>",
                            "<tr><td>4</td><td>2021-04-01</td><td>350000000</td><td>4400000000</td></tr>",
                            "<tr><td>4</td><td>2021-05-01</td><td>360000000</td><td>4760000000</td></tr>",
                            "<tr><td>4</td><td>2021-06-01</td><td>370000000</td><td>5130000000</td></tr>",
                            "<tr><td>4</td><td>2021-07-01</td><td>380000000</td><td>5510000000</td></tr>",
                            "<tr><td>4</td><td>2021-08-01</td><td>390000000</td><td>5900000000</td></tr>",
                            "<tr><td>4</td><td>2021-09-01</td><td>400000000</td><td>6300000000</td></tr>",
                            "<tr><td>4</td><td>2021-10-01</td><td>410000000</td><td>6710000000</td></tr>",
                            "<tr><td>4</td><td>2021-11-01</td><td>420000000</td><td>7130000000</td></tr>",
                            "<tr><td>4</td><td>2021-12-01</td><td>430000000</td><td>7560000000</td></tr>",
                            "<tr><td>4</td><td>2022-01-01</td><td>440000000</td><td>8000000000</td></tr>",
                            "<tr><td>4</td><td>2022-02-01</td><td>450000000</td><td>8450000000</td></tr>",
                            "<tr><td>4</td><td>2022-03-01</td><td>460000000</td><td>8910000000</td></tr>",
                            "<tr><td>4</td><td>2022-04-01</td><td>470000000</td><td>9380000000</td></tr>",
                            "<tr><td>4</td><td>2022-05-01</td><td>480000000</td><td>9860000000</td></tr>",
                            "<tr><td>4</td><td>2022-06-01</td><td>490000000</td><td>10350000000</td></tr>",
                            "<tr><td>4</td><td>2022-07-01</td><td>500000000</td><td>10850000000</td></tr>",
                            "<tr><td>4</td><td>2022-08-01</td><td>510000000</td><td>11360000000</td></tr>",
                            "<tr><td>4</td><td>2022-09-01</td><td>520000000</td><td>11880000000</td></tr>",
                            "<tr><td>4</td><td>2022-10-01</td><td>530000000</td><td>12410000000</td></tr>",
                            "<tr><td>4</td><td>2022-11-01</td><td>540000000</td><td>12950000000</td></tr>",
                            "<tr><td>4</td><td>2022-12-01</td><td>550000000</td><td>13500000000</td></tr>",
                            "</table>"
                        ]
                    }
                }
            ],
            "execution_count": 5
        },
        {
            "cell_type": "markdown",
            "source": [
                "6) Identify the total quantity of securities that can be sold now by the commoners i.e. release date should be before today's date. The purpose is to make arrangements for the sale."
            ],
            "metadata": {
                "language": "sql",
                "azdata_cell_guid": "cfe9ee1a-c162-4161-ba17-c8bee3410ecb"
            },
            "attachments": {}
        },
        {
            "cell_type": "code",
            "source": [
                "select sp.security_id, sum(quantity) ready_to_sell_quantity\n",
                "from dma.security_purchase sp\n",
                "where DATEDIFF(day, CAST( GETDATE() AS Date ), release_date) > 0\n",
                "group by sp.security_id;"
            ],
            "metadata": {
                "language": "sql",
                "azdata_cell_guid": "32ae7891-6087-46cc-8de0-7ad0f33beff2"
            },
            "outputs": [
                {
                    "output_type": "display_data",
                    "data": {
                        "text/html": "(4 rows affected)"
                    },
                    "metadata": {}
                },
                {
                    "output_type": "display_data",
                    "data": {
                        "text/html": "Total execution time: 00:00:00.047"
                    },
                    "metadata": {}
                },
                {
                    "output_type": "execute_result",
                    "metadata": {},
                    "execution_count": 6,
                    "data": {
                        "application/vnd.dataresource+json": {
                            "schema": {
                                "fields": [
                                    {
                                        "name": "security_id"
                                    },
                                    {
                                        "name": "ready_to_sell_quantity"
                                    }
                                ]
                            },
                            "data": [
                                {
                                    "0": "100001",
                                    "1": "780"
                                },
                                {
                                    "0": "200002",
                                    "1": "325"
                                },
                                {
                                    "0": "300003",
                                    "1": "184"
                                },
                                {
                                    "0": "500005",
                                    "1": "184"
                                }
                            ]
                        },
                        "text/html": [
                            "<table>",
                            "<tr><th>security_id</th><th>ready_to_sell_quantity</th></tr>",
                            "<tr><td>100001</td><td>780</td></tr>",
                            "<tr><td>200002</td><td>325</td></tr>",
                            "<tr><td>300003</td><td>184</td></tr>",
                            "<tr><td>500005</td><td>184</td></tr>",
                            "</table>"
                        ]
                    }
                }
            ],
            "execution_count": 6
        },
        {
            "cell_type": "markdown",
            "source": [
                "7) What are the mean, min, max and range of salaries of employees in each division? T Display the name of the division and the number of employees in each division. he purpose of this query is for the HR department to compare its compensations with other firms to be able to hire best talent."
            ],
            "metadata": {
                "azdata_cell_guid": "325c3022-b773-467f-bda8-ea1b01adc3df"
            },
            "attachments": {}
        },
        {
            "cell_type": "code",
            "source": [
                "select d.NAME, avg(e.compensation) as mean_salary,\n",
                "min(e.compensation) as min_salary, max(e.compensation) as\n",
                "max_salary, max(e.compensation) - min(e.compensation) as range,\n",
                "count(*) as num_of_employees\n",
                "from dma.employee e join dma.division d on e.div_id=d.ID\n",
                "GROUP by d.NAME;"
            ],
            "metadata": {
                "azdata_cell_guid": "e6d663a6-ef61-480d-bf9b-dd71dd86a2ad",
                "language": "sql"
            },
            "outputs": [
                {
                    "output_type": "display_data",
                    "data": {
                        "text/html": "(4 rows affected)"
                    },
                    "metadata": {}
                },
                {
                    "output_type": "display_data",
                    "data": {
                        "text/html": "Total execution time: 00:00:00.035"
                    },
                    "metadata": {}
                },
                {
                    "output_type": "execute_result",
                    "metadata": {},
                    "execution_count": 7,
                    "data": {
                        "application/vnd.dataresource+json": {
                            "schema": {
                                "fields": [
                                    {
                                        "name": "NAME"
                                    },
                                    {
                                        "name": "mean_salary"
                                    },
                                    {
                                        "name": "min_salary"
                                    },
                                    {
                                        "name": "max_salary"
                                    },
                                    {
                                        "name": "range"
                                    },
                                    {
                                        "name": "num_of_employees"
                                    }
                                ]
                            },
                            "data": [
                                {
                                    "0": "Asset Management",
                                    "1": "188527",
                                    "2": "115753",
                                    "3": "278131",
                                    "4": "162378",
                                    "5": "7"
                                },
                                {
                                    "0": "Investment Banking",
                                    "1": "209513",
                                    "2": "102294",
                                    "3": "300000",
                                    "4": "197706",
                                    "5": "8"
                                },
                                {
                                    "0": "Private and Corporate",
                                    "1": "208986",
                                    "2": "114220",
                                    "3": "298792",
                                    "4": "184572",
                                    "5": "8"
                                },
                                {
                                    "0": "Wealth Management",
                                    "1": "223477",
                                    "2": "120715",
                                    "3": "300000",
                                    "4": "179285",
                                    "5": "7"
                                }
                            ]
                        },
                        "text/html": [
                            "<table>",
                            "<tr><th>NAME</th><th>mean_salary</th><th>min_salary</th><th>max_salary</th><th>range</th><th>num_of_employees</th></tr>",
                            "<tr><td>Asset Management</td><td>188527</td><td>115753</td><td>278131</td><td>162378</td><td>7</td></tr>",
                            "<tr><td>Investment Banking</td><td>209513</td><td>102294</td><td>300000</td><td>197706</td><td>8</td></tr>",
                            "<tr><td>Private and Corporate</td><td>208986</td><td>114220</td><td>298792</td><td>184572</td><td>8</td></tr>",
                            "<tr><td>Wealth Management</td><td>223477</td><td>120715</td><td>300000</td><td>179285</td><td>7</td></tr>",
                            "</table>"
                        ]
                    }
                }
            ],
            "execution_count": 7
        },
        {
            "cell_type": "markdown",
            "source": [
                "8) Identify how many employees work for each manager. Display the name of the manager, age, salary and the count. The purpose is to identify if the managers are being compensated properly or not."
            ],
            "metadata": {
                "language": "sql",
                "azdata_cell_guid": "11940eda-292e-4738-9bc9-4c27d0641f43"
            },
            "attachments": {}
        },
        {
            "cell_type": "code",
            "source": [
                "with emp_count as (\n",
                "select manager_id, count(*) as no_of_employees from dma.employee\n",
                "group by manager_id except (select manager_id, count(*) from\n",
                "dma.employee\n",
                "where manager_id is null group by manager_id))\n",
                "select e.ID, e.name, e.compensation, c.no_of_employees from\n",
                "dma.employee e join emp_count c on e.ID = c.manager_id;"
            ],
            "metadata": {
                "language": "sql",
                "azdata_cell_guid": "11f60467-c778-4ac1-a65d-a46dea691922"
            },
            "outputs": [
                {
                    "output_type": "display_data",
                    "data": {
                        "text/html": "(4 rows affected)"
                    },
                    "metadata": {}
                },
                {
                    "output_type": "display_data",
                    "data": {
                        "text/html": "Total execution time: 00:00:00.040"
                    },
                    "metadata": {}
                },
                {
                    "output_type": "execute_result",
                    "metadata": {},
                    "execution_count": 8,
                    "data": {
                        "application/vnd.dataresource+json": {
                            "schema": {
                                "fields": [
                                    {
                                        "name": "ID"
                                    },
                                    {
                                        "name": "name"
                                    },
                                    {
                                        "name": "compensation"
                                    },
                                    {
                                        "name": "no_of_employees"
                                    }
                                ]
                            },
                            "data": [
                                {
                                    "0": "4",
                                    "1": "Venkat Krishnamurthy",
                                    "2": "300000",
                                    "3": "7"
                                },
                                {
                                    "0": "5",
                                    "1": "Bridgett Kovach",
                                    "2": "114220",
                                    "3": "7"
                                },
                                {
                                    "0": "7",
                                    "1": "Lexis Lofton",
                                    "2": "270000",
                                    "3": "6"
                                },
                                {
                                    "0": "10",
                                    "1": "Daniela Ceja",
                                    "2": "300000",
                                    "3": "6"
                                }
                            ]
                        },
                        "text/html": [
                            "<table>",
                            "<tr><th>ID</th><th>name</th><th>compensation</th><th>no_of_employees</th></tr>",
                            "<tr><td>4</td><td>Venkat Krishnamurthy</td><td>300000</td><td>7</td></tr>",
                            "<tr><td>5</td><td>Bridgett Kovach</td><td>114220</td><td>7</td></tr>",
                            "<tr><td>7</td><td>Lexis Lofton</td><td>270000</td><td>6</td></tr>",
                            "<tr><td>10</td><td>Daniela Ceja</td><td>300000</td><td>6</td></tr>",
                            "</table>"
                        ]
                    }
                }
            ],
            "execution_count": 8
        },
        {
            "cell_type": "markdown",
            "source": [
                "9) Identify the commoner IDs of those commoners who availed all PCServices. The purpose of this analytical query is to list those commoners to provide them loyalty benefits."
            ],
            "metadata": {
                "language": "sql",
                "azdata_cell_guid": "e85c6ba6-63b0-4de8-9aff-7b7356655351"
            },
            "attachments": {}
        },
        {
            "cell_type": "code",
            "source": [
                "select commoner_id from dma.PCprovision pc1 where\n",
                "(select count(distinct pc_service_id)\n",
                "from dma.PCprovision pc2\n",
                "where pc1.commoner_id=pc2.commoner_id) =\n",
                "(select distinct count(*) from dma.PCservice)\n",
                "group by commoner_id;"
            ],
            "metadata": {
                "language": "sql",
                "azdata_cell_guid": "4cd7ddd0-60ca-496a-9b28-fe28869e6d5d"
            },
            "outputs": [
                {
                    "output_type": "display_data",
                    "data": {
                        "text/html": "(2 rows affected)"
                    },
                    "metadata": {}
                },
                {
                    "output_type": "display_data",
                    "data": {
                        "text/html": "Total execution time: 00:00:00.039"
                    },
                    "metadata": {}
                },
                {
                    "output_type": "execute_result",
                    "metadata": {},
                    "execution_count": 9,
                    "data": {
                        "application/vnd.dataresource+json": {
                            "schema": {
                                "fields": [
                                    {
                                        "name": "commoner_id"
                                    }
                                ]
                            },
                            "data": [
                                {
                                    "0": "11"
                                },
                                {
                                    "0": "12"
                                }
                            ]
                        },
                        "text/html": [
                            "<table>",
                            "<tr><th>commoner_id</th></tr>",
                            "<tr><td>11</td></tr>",
                            "<tr><td>12</td></tr>",
                            "</table>"
                        ]
                    }
                }
            ],
            "execution_count": 9
        }
    ]
}